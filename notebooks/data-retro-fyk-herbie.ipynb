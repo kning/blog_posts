{
 "cells": [
  {
   "cell_type": "markdown",
   "metadata": {},
   "source": [
    "## Objective\n",
    "As an independent musical artist, I've released 10 original songs over roughly the past 2 years that have spanned a wide variety of genres, including hip hop, acoustic singer-songwriter, and instrumental music. And I can feel the creative rut seeping in. There's [lots of resources](https://blog.landr.com/landr-select-musicians-guide-maximizing-creativity/) about how to break out of a creative rut, but I noticed one missing technique: data science-ing your way out of it (yes I just made that a verb).\n",
    "\n",
    "All my music is on Spotify and neatly collected [into this playlist](https://open.spotify.com/user/12755201/playlist/3rAJyVWBR07cVCp2Cm3rYn?si=XHN_gQcKRyKxi1JCOE7kUQ). We can get some data on these tracks through the handy [spotipy](https://github.com/plamere/spotipy) library and also the excellent [Spotify for Artists](https://artists.spotify.com/) data portal."
   ]
  },
  {
   "cell_type": "code",
   "execution_count": 1,
   "metadata": {},
   "outputs": [],
   "source": [
    "import pandas as pd\n",
    "import json\n",
    "import spotipy\n",
    "\n",
    "import seaborn as sns\n",
    "import matplotlib.pyplot as plt\n",
    "%matplotlib inline"
   ]
  },
  {
   "cell_type": "markdown",
   "metadata": {},
   "source": [
    "## Data Collection"
   ]
  },
  {
   "cell_type": "markdown",
   "metadata": {},
   "source": [
    "### Spotify API"
   ]
  },
  {
   "cell_type": "code",
   "execution_count": 4,
   "metadata": {},
   "outputs": [
    {
     "name": "stdout",
     "output_type": "stream",
     "text": [
      "\n",
      "\n",
      "            User authentication requires interaction with your\n",
      "            web browser. Once you enter your credentials and\n",
      "            give authorization, you will be redirected to\n",
      "            a url.  Paste that url you were directed to to\n",
      "            complete the authorization.\n",
      "\n",
      "        \n",
      "Opened https://accounts.spotify.com/authorize?client_id=68d7a20a63ce47c38af4e5b145d12356&response_type=code&redirect_uri=http%3A%2F%2Flocalhost%2F&scope=playlist-read-private in your browser\n",
      "\n",
      "\n",
      "Enter the URL you were redirected to: http://localhost/?code=AQCx3pADGIg3SpIN3VVn7s7ihqzaWQOZwXJO1rBI6Sew3-mblx6LeQlKfJY4kEUyCV1vrVqiXdbFdmUYJKvSLgonxtxyIT4g4QkRLfpl9-uLE-y4LPBjLXrpUeMPsj6La46hyjACsM_IIccZy4ILS6DDmx8mc8n6u2kM4Pl_4Nx_MvroTfPpBuKXSTYN_60SN0vFjJKYdWnBS6PGyM3NEA\n",
      "\n",
      "\n"
     ]
    }
   ],
   "source": [
    "# authenticate\n",
    "import spotipy.util as util\n",
    "token = util.prompt_for_user_token('12755201',\n",
    "                           scope='playlist-read-private',\n",
    "                           client_id='68d7a20a63ce47c38af4e5b145d12356',\n",
    "                           client_secret='45b2097ff4514971b7e6c6db9e4d313e',\n",
    "                           redirect_uri='http://localhost/')\n",
    "if token:\n",
    "    sp = spotipy.Spotify(auth=token)\n",
    "else:\n",
    "    print(\"unable to auth for some reason\")"
   ]
  },
  {
   "cell_type": "code",
   "execution_count": 5,
   "metadata": {},
   "outputs": [],
   "source": [
    "# get all tracks in the playlist\n",
    "uri = 'spotify:user:12755201:playlist:3rAJyVWBR07cVCp2Cm3rYn'\n",
    "username = uri.split(':')[2]\n",
    "playlist_id = uri.split(':')[4]\n",
    "results = sp.user_playlist(username, playlist_id)"
   ]
  },
  {
   "cell_type": "code",
   "execution_count": 6,
   "metadata": {},
   "outputs": [],
   "source": [
    "# clean up the track results from the Spotify API and put into a list\n",
    "track_list = []\n",
    "for track in results['tracks']['items']:\n",
    "    # only include tracks where FYK is the artist\n",
    "    if track['track']['artists'][0]['id'] == '7qMYIpuILKarjAQdkbigDS':\n",
    "        track_list.append((track['track']['name'], track['track']['uri']))"
   ]
  },
  {
   "cell_type": "code",
   "execution_count": 7,
   "metadata": {},
   "outputs": [
    {
     "data": {
      "text/plain": [
       "[('Sunrise (Remix)', 'spotify:track:14EkEdN8AMuwu7PilsiyAq'),\n",
       " ('Church', 'spotify:track:0hzYt6deqYgyi7ibQE1cye'),\n",
       " ('Try 2 Hard', 'spotify:track:4OBiFgBSuiNj7vRIhNGWk0'),\n",
       " ('Sposed To Do', 'spotify:track:5YhJDsvPacYVY9UBGrif3n'),\n",
       " ('Road Rage', 'spotify:track:1kwCcTt3eno6Lb0soB4FfA'),\n",
       " (\"Blowin' in the Wind\", 'spotify:track:2FaqoUUuIPti2ZpawnmDKG'),\n",
       " ('Leave (Get Out)', 'spotify:track:1XVDb7yy0wEsdLXON9kqD8'),\n",
       " ('Sunrise (Acoustic)', 'spotify:track:6QvdCtego9AYqrgl0J6dU5'),\n",
       " ('Fine Art', 'spotify:track:3grkRDZIxLYlPZknxOSphM'),\n",
       " ('Triple Major', 'spotify:track:1GEiPRqO7yicpHIAWXmVcP')]"
      ]
     },
     "execution_count": 7,
     "metadata": {},
     "output_type": "execute_result"
    }
   ],
   "source": [
    "# my discography!\n",
    "track_list"
   ]
  },
  {
   "cell_type": "code",
   "execution_count": 8,
   "metadata": {},
   "outputs": [],
   "source": [
    "names, tids = zip(*track_list)"
   ]
  },
  {
   "cell_type": "code",
   "execution_count": 9,
   "metadata": {},
   "outputs": [],
   "source": [
    "features = sp.audio_features(tids)"
   ]
  },
  {
   "cell_type": "code",
   "execution_count": 10,
   "metadata": {},
   "outputs": [],
   "source": [
    "df = pd.DataFrame({'track_name': names, \n",
    "                   'track_uri': tids,\n",
    "                   'danceability': list(map(lambda r: r['danceability'], features)),\n",
    "                   'energy': list(map(lambda r: r['energy'], features)),\n",
    "                   'speechiness': list(map(lambda r: r['speechiness'], features)),\n",
    "                   'acousticness': list(map(lambda r: r['acousticness'], features)),\n",
    "                   'instrumentalness': list(map(lambda r: r['instrumentalness'], features)),\n",
    "                   'valence': list(map(lambda r: r['valence'], features)),\n",
    "                   'tempo': list(map(lambda r: r['tempo'], features))\n",
    "                  })"
   ]
  },
  {
   "cell_type": "code",
   "execution_count": 11,
   "metadata": {},
   "outputs": [
    {
     "data": {
      "text/html": [
       "<div>\n",
       "<style scoped>\n",
       "    .dataframe tbody tr th:only-of-type {\n",
       "        vertical-align: middle;\n",
       "    }\n",
       "\n",
       "    .dataframe tbody tr th {\n",
       "        vertical-align: top;\n",
       "    }\n",
       "\n",
       "    .dataframe thead th {\n",
       "        text-align: right;\n",
       "    }\n",
       "</style>\n",
       "<table border=\"1\" class=\"dataframe\">\n",
       "  <thead>\n",
       "    <tr style=\"text-align: right;\">\n",
       "      <th></th>\n",
       "      <th>track_name</th>\n",
       "      <th>track_uri</th>\n",
       "      <th>danceability</th>\n",
       "      <th>energy</th>\n",
       "      <th>speechiness</th>\n",
       "      <th>acousticness</th>\n",
       "      <th>instrumentalness</th>\n",
       "      <th>valence</th>\n",
       "      <th>tempo</th>\n",
       "    </tr>\n",
       "  </thead>\n",
       "  <tbody>\n",
       "    <tr>\n",
       "      <th>0</th>\n",
       "      <td>Sunrise (Remix)</td>\n",
       "      <td>spotify:track:14EkEdN8AMuwu7PilsiyAq</td>\n",
       "      <td>0.542</td>\n",
       "      <td>0.666</td>\n",
       "      <td>0.1840</td>\n",
       "      <td>0.0790</td>\n",
       "      <td>0.000000</td>\n",
       "      <td>0.0808</td>\n",
       "      <td>89.427</td>\n",
       "    </tr>\n",
       "    <tr>\n",
       "      <th>1</th>\n",
       "      <td>Church</td>\n",
       "      <td>spotify:track:0hzYt6deqYgyi7ibQE1cye</td>\n",
       "      <td>0.598</td>\n",
       "      <td>0.440</td>\n",
       "      <td>0.0344</td>\n",
       "      <td>0.0484</td>\n",
       "      <td>0.821000</td>\n",
       "      <td>0.7800</td>\n",
       "      <td>79.994</td>\n",
       "    </tr>\n",
       "    <tr>\n",
       "      <th>2</th>\n",
       "      <td>Try 2 Hard</td>\n",
       "      <td>spotify:track:4OBiFgBSuiNj7vRIhNGWk0</td>\n",
       "      <td>0.371</td>\n",
       "      <td>0.696</td>\n",
       "      <td>0.0885</td>\n",
       "      <td>0.7150</td>\n",
       "      <td>0.000080</td>\n",
       "      <td>0.3500</td>\n",
       "      <td>84.140</td>\n",
       "    </tr>\n",
       "    <tr>\n",
       "      <th>3</th>\n",
       "      <td>Sposed To Do</td>\n",
       "      <td>spotify:track:5YhJDsvPacYVY9UBGrif3n</td>\n",
       "      <td>0.765</td>\n",
       "      <td>0.490</td>\n",
       "      <td>0.0473</td>\n",
       "      <td>0.2520</td>\n",
       "      <td>0.003890</td>\n",
       "      <td>0.2470</td>\n",
       "      <td>87.031</td>\n",
       "    </tr>\n",
       "    <tr>\n",
       "      <th>4</th>\n",
       "      <td>Road Rage</td>\n",
       "      <td>spotify:track:1kwCcTt3eno6Lb0soB4FfA</td>\n",
       "      <td>0.938</td>\n",
       "      <td>0.451</td>\n",
       "      <td>0.2630</td>\n",
       "      <td>0.0647</td>\n",
       "      <td>0.000000</td>\n",
       "      <td>0.5980</td>\n",
       "      <td>100.028</td>\n",
       "    </tr>\n",
       "    <tr>\n",
       "      <th>5</th>\n",
       "      <td>Blowin' in the Wind</td>\n",
       "      <td>spotify:track:2FaqoUUuIPti2ZpawnmDKG</td>\n",
       "      <td>0.499</td>\n",
       "      <td>0.181</td>\n",
       "      <td>0.0394</td>\n",
       "      <td>0.9560</td>\n",
       "      <td>0.000053</td>\n",
       "      <td>0.4370</td>\n",
       "      <td>120.546</td>\n",
       "    </tr>\n",
       "    <tr>\n",
       "      <th>6</th>\n",
       "      <td>Leave (Get Out)</td>\n",
       "      <td>spotify:track:1XVDb7yy0wEsdLXON9kqD8</td>\n",
       "      <td>0.716</td>\n",
       "      <td>0.328</td>\n",
       "      <td>0.0595</td>\n",
       "      <td>0.5320</td>\n",
       "      <td>0.000000</td>\n",
       "      <td>0.6690</td>\n",
       "      <td>84.792</td>\n",
       "    </tr>\n",
       "    <tr>\n",
       "      <th>7</th>\n",
       "      <td>Sunrise (Acoustic)</td>\n",
       "      <td>spotify:track:6QvdCtego9AYqrgl0J6dU5</td>\n",
       "      <td>0.692</td>\n",
       "      <td>0.170</td>\n",
       "      <td>0.0822</td>\n",
       "      <td>0.7210</td>\n",
       "      <td>0.000000</td>\n",
       "      <td>0.5020</td>\n",
       "      <td>90.032</td>\n",
       "    </tr>\n",
       "    <tr>\n",
       "      <th>8</th>\n",
       "      <td>Fine Art</td>\n",
       "      <td>spotify:track:3grkRDZIxLYlPZknxOSphM</td>\n",
       "      <td>0.552</td>\n",
       "      <td>0.643</td>\n",
       "      <td>0.0880</td>\n",
       "      <td>0.0958</td>\n",
       "      <td>0.000000</td>\n",
       "      <td>0.5800</td>\n",
       "      <td>86.920</td>\n",
       "    </tr>\n",
       "    <tr>\n",
       "      <th>9</th>\n",
       "      <td>Triple Major</td>\n",
       "      <td>spotify:track:1GEiPRqO7yicpHIAWXmVcP</td>\n",
       "      <td>0.715</td>\n",
       "      <td>0.686</td>\n",
       "      <td>0.0812</td>\n",
       "      <td>0.0153</td>\n",
       "      <td>0.000000</td>\n",
       "      <td>0.7460</td>\n",
       "      <td>170.103</td>\n",
       "    </tr>\n",
       "  </tbody>\n",
       "</table>\n",
       "</div>"
      ],
      "text/plain": [
       "            track_name                             track_uri  danceability  \\\n",
       "0      Sunrise (Remix)  spotify:track:14EkEdN8AMuwu7PilsiyAq         0.542   \n",
       "1               Church  spotify:track:0hzYt6deqYgyi7ibQE1cye         0.598   \n",
       "2           Try 2 Hard  spotify:track:4OBiFgBSuiNj7vRIhNGWk0         0.371   \n",
       "3         Sposed To Do  spotify:track:5YhJDsvPacYVY9UBGrif3n         0.765   \n",
       "4            Road Rage  spotify:track:1kwCcTt3eno6Lb0soB4FfA         0.938   \n",
       "5  Blowin' in the Wind  spotify:track:2FaqoUUuIPti2ZpawnmDKG         0.499   \n",
       "6      Leave (Get Out)  spotify:track:1XVDb7yy0wEsdLXON9kqD8         0.716   \n",
       "7   Sunrise (Acoustic)  spotify:track:6QvdCtego9AYqrgl0J6dU5         0.692   \n",
       "8             Fine Art  spotify:track:3grkRDZIxLYlPZknxOSphM         0.552   \n",
       "9         Triple Major  spotify:track:1GEiPRqO7yicpHIAWXmVcP         0.715   \n",
       "\n",
       "   energy  speechiness  acousticness  instrumentalness  valence    tempo  \n",
       "0   0.666       0.1840        0.0790          0.000000   0.0808   89.427  \n",
       "1   0.440       0.0344        0.0484          0.821000   0.7800   79.994  \n",
       "2   0.696       0.0885        0.7150          0.000080   0.3500   84.140  \n",
       "3   0.490       0.0473        0.2520          0.003890   0.2470   87.031  \n",
       "4   0.451       0.2630        0.0647          0.000000   0.5980  100.028  \n",
       "5   0.181       0.0394        0.9560          0.000053   0.4370  120.546  \n",
       "6   0.328       0.0595        0.5320          0.000000   0.6690   84.792  \n",
       "7   0.170       0.0822        0.7210          0.000000   0.5020   90.032  \n",
       "8   0.643       0.0880        0.0958          0.000000   0.5800   86.920  \n",
       "9   0.686       0.0812        0.0153          0.000000   0.7460  170.103  "
      ]
     },
     "execution_count": 11,
     "metadata": {},
     "output_type": "execute_result"
    }
   ],
   "source": [
    "df"
   ]
  },
  {
   "cell_type": "markdown",
   "metadata": {},
   "source": [
    "### S4A"
   ]
  },
  {
   "cell_type": "code",
   "execution_count": 12,
   "metadata": {},
   "outputs": [
    {
     "name": "stdout",
     "output_type": "stream",
     "text": [
      "/Users/kennethning/repos/blog_posts/notebooks\r\n"
     ]
    }
   ],
   "source": [
    "!pwd"
   ]
  },
  {
   "cell_type": "code",
   "execution_count": 13,
   "metadata": {},
   "outputs": [],
   "source": [
    "df_s4a = pd.read_csv(\"../data/recordings-since2015.csv\")"
   ]
  },
  {
   "cell_type": "code",
   "execution_count": 14,
   "metadata": {},
   "outputs": [],
   "source": [
    "df_full = df.merge(df_s4a, left_on='track_name', right_on='song')"
   ]
  },
  {
   "cell_type": "code",
   "execution_count": 15,
   "metadata": {},
   "outputs": [],
   "source": [
    "df_full['save_ratio'] = df_full['saves'] / df_full['listeners']"
   ]
  },
  {
   "cell_type": "code",
   "execution_count": 16,
   "metadata": {},
   "outputs": [
    {
     "data": {
      "image/png": "[encoded data removed]",
      "text/plain": [
       "<Figure size 432x288 with 1 Axes>"
      ]
     },
     "metadata": {},
     "output_type": "display_data"
    }
   ],
   "source": [
    "df_full.set_index('track_name').sort_values('listeners')['streams'].plot(kind='barh', color='gray', title=\"Top FYK Songs by All Time Spotify Streams\")\n",
    "plt.ylabel('')\n",
    "plt.savefig(\"../plots/fyk_top_tracks.png\")"
   ]
  },
  {
   "cell_type": "code",
   "execution_count": 17,
   "metadata": {},
   "outputs": [
    {
     "data": {
      "text/html": [
       "<div>\n",
       "<style scoped>\n",
       "    .dataframe tbody tr th:only-of-type {\n",
       "        vertical-align: middle;\n",
       "    }\n",
       "\n",
       "    .dataframe tbody tr th {\n",
       "        vertical-align: top;\n",
       "    }\n",
       "\n",
       "    .dataframe thead th {\n",
       "        text-align: right;\n",
       "    }\n",
       "</style>\n",
       "<table border=\"1\" class=\"dataframe\">\n",
       "  <thead>\n",
       "    <tr style=\"text-align: right;\">\n",
       "      <th></th>\n",
       "      <th>listeners</th>\n",
       "      <th>streams</th>\n",
       "    </tr>\n",
       "  </thead>\n",
       "  <tbody>\n",
       "    <tr>\n",
       "      <th>count</th>\n",
       "      <td>10.000000</td>\n",
       "      <td>10.000000</td>\n",
       "    </tr>\n",
       "    <tr>\n",
       "      <th>mean</th>\n",
       "      <td>4919.600000</td>\n",
       "      <td>14334.300000</td>\n",
       "    </tr>\n",
       "    <tr>\n",
       "      <th>std</th>\n",
       "      <td>14735.161826</td>\n",
       "      <td>42856.054783</td>\n",
       "    </tr>\n",
       "    <tr>\n",
       "      <th>min</th>\n",
       "      <td>6.000000</td>\n",
       "      <td>11.000000</td>\n",
       "    </tr>\n",
       "    <tr>\n",
       "      <th>25%</th>\n",
       "      <td>73.750000</td>\n",
       "      <td>139.500000</td>\n",
       "    </tr>\n",
       "    <tr>\n",
       "      <th>50%</th>\n",
       "      <td>160.500000</td>\n",
       "      <td>331.500000</td>\n",
       "    </tr>\n",
       "    <tr>\n",
       "      <th>75%</th>\n",
       "      <td>197.250000</td>\n",
       "      <td>605.250000</td>\n",
       "    </tr>\n",
       "    <tr>\n",
       "      <th>max</th>\n",
       "      <td>46839.000000</td>\n",
       "      <td>136234.000000</td>\n",
       "    </tr>\n",
       "  </tbody>\n",
       "</table>\n",
       "</div>"
      ],
      "text/plain": [
       "          listeners        streams\n",
       "count     10.000000      10.000000\n",
       "mean    4919.600000   14334.300000\n",
       "std    14735.161826   42856.054783\n",
       "min        6.000000      11.000000\n",
       "25%       73.750000     139.500000\n",
       "50%      160.500000     331.500000\n",
       "75%      197.250000     605.250000\n",
       "max    46839.000000  136234.000000"
      ]
     },
     "execution_count": 17,
     "metadata": {},
     "output_type": "execute_result"
    }
   ],
   "source": [
    "df_full[['listeners','streams']].describe()"
   ]
  },
  {
   "cell_type": "markdown",
   "metadata": {},
   "source": [
    "We can quickly see that the consumption of my music is very skewed. In particular, there is one track, Triple Major, that has 46,839 all time listeners and >100K streams. For comparison, my median track has 160 all time listeners and 331 all time streams. \n",
    "\n",
    "I'd love to take full credit for the success of that track, but the real reason behind its success is [Kpop](https://open.spotify.com/user/121489479/playlist/6Jx7wvYVlwWFANaBDe7qOk?si=Pd4rtZ-TRVy_LPrcYnCpJQ). That's right, I got picked up by tastemaker, Christina Choi, and she placed that song in her playlist and I had a lot of downstream consumption afterwards attributable to that placement. (side note: I'm not actually Korean, but who's counting??). In the graph below, you can see the big spike as a result of that placement and the long tail downstream consumption that followed.\n",
    "\n",
    "<img src=\"triple_major.png\">\n",
    "\n",
    "The ride didn't end there. This consumption actually bootstrapped itself straight into Discover Weekly and I was coasting off that for a while. Now the heat has died down a bit and it's been a challenge to repeat that success. The power of playlisting is real.\n",
    "\n",
    "Now the big question... what should my next musical project sound like? Of the music I've released so far, is there any correlation between certain audio attributes and \"success\" of the song.\n",
    "\n",
    "For audio attributes, it's fairly easy to get that from the Spotify API. \"Success\" is always tricky to define when it comes to music performance. Streams or listeners is out of the question since the distribution is skewed. Instead, we'll look at save ratio, or saves divided by listeners, as a way to measure how engaged listeners of the track were."
   ]
  },
  {
   "cell_type": "code",
   "execution_count": 18,
   "metadata": {},
   "outputs": [],
   "source": [
    "# filter out songs with less than 50 listeners\n",
    "df_filtered = df_full.query(\"listeners > 50\")"
   ]
  },
  {
   "cell_type": "code",
   "execution_count": 19,
   "metadata": {},
   "outputs": [],
   "source": [
    "top_tracks = df_filtered.sort_values('save_ratio')"
   ]
  },
  {
   "cell_type": "code",
   "execution_count": 20,
   "metadata": {},
   "outputs": [
    {
     "data": {
      "image/png": "[encoded data removed]",
      "text/plain": [
       "<Figure size 432x288 with 1 Axes>"
      ]
     },
     "metadata": {},
     "output_type": "display_data"
    }
   ],
   "source": [
    "top_tracks.set_index('track_name')['save_ratio'].plot(kind='barh', color='gray', title=\"Save Ratio by Track\")\n",
    "plt.ylabel('')\n",
    "plt.savefig(\"../plots/save_ratio_by_track.png\", bbox_inches='tight')"
   ]
  },
  {
   "cell_type": "code",
   "execution_count": 21,
   "metadata": {},
   "outputs": [
    {
     "data": {
      "text/html": [
       "<div>\n",
       "<style scoped>\n",
       "    .dataframe tbody tr th:only-of-type {\n",
       "        vertical-align: middle;\n",
       "    }\n",
       "\n",
       "    .dataframe tbody tr th {\n",
       "        vertical-align: top;\n",
       "    }\n",
       "\n",
       "    .dataframe thead th {\n",
       "        text-align: right;\n",
       "    }\n",
       "</style>\n",
       "<table border=\"1\" class=\"dataframe\">\n",
       "  <thead>\n",
       "    <tr style=\"text-align: right;\">\n",
       "      <th></th>\n",
       "      <th>track_name</th>\n",
       "      <th>track_uri</th>\n",
       "      <th>danceability</th>\n",
       "      <th>energy</th>\n",
       "      <th>speechiness</th>\n",
       "      <th>acousticness</th>\n",
       "      <th>instrumentalness</th>\n",
       "      <th>valence</th>\n",
       "      <th>tempo</th>\n",
       "      <th>song</th>\n",
       "      <th>listeners</th>\n",
       "      <th>streams</th>\n",
       "      <th>saves</th>\n",
       "      <th>release_date</th>\n",
       "      <th>save_ratio</th>\n",
       "    </tr>\n",
       "  </thead>\n",
       "  <tbody>\n",
       "    <tr>\n",
       "      <th>0</th>\n",
       "      <td>Sunrise (Remix)</td>\n",
       "      <td>spotify:track:14EkEdN8AMuwu7PilsiyAq</td>\n",
       "      <td>0.542</td>\n",
       "      <td>0.666</td>\n",
       "      <td>0.1840</td>\n",
       "      <td>0.0790</td>\n",
       "      <td>0.00000</td>\n",
       "      <td>0.0808</td>\n",
       "      <td>89.427</td>\n",
       "      <td>Sunrise (Remix)</td>\n",
       "      <td>53</td>\n",
       "      <td>109</td>\n",
       "      <td>34</td>\n",
       "      <td>2018-09-06</td>\n",
       "      <td>0.641509</td>\n",
       "    </tr>\n",
       "    <tr>\n",
       "      <th>3</th>\n",
       "      <td>Sposed To Do</td>\n",
       "      <td>spotify:track:5YhJDsvPacYVY9UBGrif3n</td>\n",
       "      <td>0.765</td>\n",
       "      <td>0.490</td>\n",
       "      <td>0.0473</td>\n",
       "      <td>0.2520</td>\n",
       "      <td>0.00389</td>\n",
       "      <td>0.2470</td>\n",
       "      <td>87.031</td>\n",
       "      <td>Sposed To Do</td>\n",
       "      <td>208</td>\n",
       "      <td>611</td>\n",
       "      <td>85</td>\n",
       "      <td>2018-05-25</td>\n",
       "      <td>0.408654</td>\n",
       "    </tr>\n",
       "    <tr>\n",
       "      <th>1</th>\n",
       "      <td>Church</td>\n",
       "      <td>spotify:track:0hzYt6deqYgyi7ibQE1cye</td>\n",
       "      <td>0.598</td>\n",
       "      <td>0.440</td>\n",
       "      <td>0.0344</td>\n",
       "      <td>0.0484</td>\n",
       "      <td>0.82100</td>\n",
       "      <td>0.7800</td>\n",
       "      <td>79.994</td>\n",
       "      <td>Church</td>\n",
       "      <td>162</td>\n",
       "      <td>255</td>\n",
       "      <td>60</td>\n",
       "      <td>2018-06-10</td>\n",
       "      <td>0.370370</td>\n",
       "    </tr>\n",
       "    <tr>\n",
       "      <th>8</th>\n",
       "      <td>Fine Art</td>\n",
       "      <td>spotify:track:3grkRDZIxLYlPZknxOSphM</td>\n",
       "      <td>0.552</td>\n",
       "      <td>0.643</td>\n",
       "      <td>0.0880</td>\n",
       "      <td>0.0958</td>\n",
       "      <td>0.00000</td>\n",
       "      <td>0.5800</td>\n",
       "      <td>86.920</td>\n",
       "      <td>Fine Art</td>\n",
       "      <td>1454</td>\n",
       "      <td>4876</td>\n",
       "      <td>518</td>\n",
       "      <td>2017-02-17</td>\n",
       "      <td>0.356259</td>\n",
       "    </tr>\n",
       "    <tr>\n",
       "      <th>7</th>\n",
       "      <td>Sunrise (Acoustic)</td>\n",
       "      <td>spotify:track:6QvdCtego9AYqrgl0J6dU5</td>\n",
       "      <td>0.692</td>\n",
       "      <td>0.170</td>\n",
       "      <td>0.0822</td>\n",
       "      <td>0.7210</td>\n",
       "      <td>0.00000</td>\n",
       "      <td>0.5020</td>\n",
       "      <td>90.032</td>\n",
       "      <td>Sunrise (Acoustic)</td>\n",
       "      <td>165</td>\n",
       "      <td>588</td>\n",
       "      <td>46</td>\n",
       "      <td>2018-09-06</td>\n",
       "      <td>0.278788</td>\n",
       "    </tr>\n",
       "    <tr>\n",
       "      <th>2</th>\n",
       "      <td>Try 2 Hard</td>\n",
       "      <td>spotify:track:4OBiFgBSuiNj7vRIhNGWk0</td>\n",
       "      <td>0.371</td>\n",
       "      <td>0.696</td>\n",
       "      <td>0.0885</td>\n",
       "      <td>0.7150</td>\n",
       "      <td>0.00008</td>\n",
       "      <td>0.3500</td>\n",
       "      <td>84.140</td>\n",
       "      <td>Try 2 Hard</td>\n",
       "      <td>136</td>\n",
       "      <td>231</td>\n",
       "      <td>30</td>\n",
       "      <td>2018-05-25</td>\n",
       "      <td>0.220588</td>\n",
       "    </tr>\n",
       "    <tr>\n",
       "      <th>4</th>\n",
       "      <td>Road Rage</td>\n",
       "      <td>spotify:track:1kwCcTt3eno6Lb0soB4FfA</td>\n",
       "      <td>0.938</td>\n",
       "      <td>0.451</td>\n",
       "      <td>0.2630</td>\n",
       "      <td>0.0647</td>\n",
       "      <td>0.00000</td>\n",
       "      <td>0.5980</td>\n",
       "      <td>100.028</td>\n",
       "      <td>Road Rage</td>\n",
       "      <td>159</td>\n",
       "      <td>408</td>\n",
       "      <td>31</td>\n",
       "      <td>2018-01-30</td>\n",
       "      <td>0.194969</td>\n",
       "    </tr>\n",
       "    <tr>\n",
       "      <th>9</th>\n",
       "      <td>Triple Major</td>\n",
       "      <td>spotify:track:1GEiPRqO7yicpHIAWXmVcP</td>\n",
       "      <td>0.715</td>\n",
       "      <td>0.686</td>\n",
       "      <td>0.0812</td>\n",
       "      <td>0.0153</td>\n",
       "      <td>0.00000</td>\n",
       "      <td>0.7460</td>\n",
       "      <td>170.103</td>\n",
       "      <td>Triple Major</td>\n",
       "      <td>46839</td>\n",
       "      <td>136234</td>\n",
       "      <td>5554</td>\n",
       "      <td>2017-02-17</td>\n",
       "      <td>0.118576</td>\n",
       "    </tr>\n",
       "  </tbody>\n",
       "</table>\n",
       "</div>"
      ],
      "text/plain": [
       "           track_name                             track_uri  danceability  \\\n",
       "0     Sunrise (Remix)  spotify:track:14EkEdN8AMuwu7PilsiyAq         0.542   \n",
       "3        Sposed To Do  spotify:track:5YhJDsvPacYVY9UBGrif3n         0.765   \n",
       "1              Church  spotify:track:0hzYt6deqYgyi7ibQE1cye         0.598   \n",
       "8            Fine Art  spotify:track:3grkRDZIxLYlPZknxOSphM         0.552   \n",
       "7  Sunrise (Acoustic)  spotify:track:6QvdCtego9AYqrgl0J6dU5         0.692   \n",
       "2          Try 2 Hard  spotify:track:4OBiFgBSuiNj7vRIhNGWk0         0.371   \n",
       "4           Road Rage  spotify:track:1kwCcTt3eno6Lb0soB4FfA         0.938   \n",
       "9        Triple Major  spotify:track:1GEiPRqO7yicpHIAWXmVcP         0.715   \n",
       "\n",
       "   energy  speechiness  acousticness  instrumentalness  valence    tempo  \\\n",
       "0   0.666       0.1840        0.0790           0.00000   0.0808   89.427   \n",
       "3   0.490       0.0473        0.2520           0.00389   0.2470   87.031   \n",
       "1   0.440       0.0344        0.0484           0.82100   0.7800   79.994   \n",
       "8   0.643       0.0880        0.0958           0.00000   0.5800   86.920   \n",
       "7   0.170       0.0822        0.7210           0.00000   0.5020   90.032   \n",
       "2   0.696       0.0885        0.7150           0.00008   0.3500   84.140   \n",
       "4   0.451       0.2630        0.0647           0.00000   0.5980  100.028   \n",
       "9   0.686       0.0812        0.0153           0.00000   0.7460  170.103   \n",
       "\n",
       "                 song  listeners  streams  saves release_date  save_ratio  \n",
       "0     Sunrise (Remix)         53      109     34   2018-09-06    0.641509  \n",
       "3        Sposed To Do        208      611     85   2018-05-25    0.408654  \n",
       "1              Church        162      255     60   2018-06-10    0.370370  \n",
       "8            Fine Art       1454     4876    518   2017-02-17    0.356259  \n",
       "7  Sunrise (Acoustic)        165      588     46   2018-09-06    0.278788  \n",
       "2          Try 2 Hard        136      231     30   2018-05-25    0.220588  \n",
       "4           Road Rage        159      408     31   2018-01-30    0.194969  \n",
       "9        Triple Major      46839   136234   5554   2017-02-17    0.118576  "
      ]
     },
     "execution_count": 21,
     "metadata": {},
     "output_type": "execute_result"
    }
   ],
   "source": [
    "top_tracks.sort_values(\"save_ratio\", ascending=False)"
   ]
  },
  {
   "cell_type": "markdown",
   "metadata": {},
   "source": [
    "Interesting to see that Sunrise (Remix) has the best save ratio. It also happens to my favorite song of the bunch and most recent release, so that's promising! Rounding out the top is Sposed To Do, which got a little bit of a boost through a Spotify Ad Studio ad I ran with it and Church, which also got a bit of a boost through a corresponding Instagram ad I released around the same time. It's clear that even small promotional actions like Facebook/Instagram ads can actually make some impact onto the performance of your song."
   ]
  },
  {
   "cell_type": "code",
   "execution_count": 22,
   "metadata": {},
   "outputs": [
    {
     "data": {
      "image/png": "[encoded data removed]",
      "text/plain": [
       "<Figure size 900x180 with 5 Axes>"
      ]
     },
     "metadata": {},
     "output_type": "display_data"
    }
   ],
   "source": [
    "sns.pairplot(df_filtered, \n",
    "             kind='reg',\n",
    "             x_vars=[\"danceability\", \"energy\", \"instrumentalness\", \"valence\", \"tempo\"],\n",
    "             y_vars=[\"save_ratio\"]\n",
    "             )\n",
    "plt.ylim(0,1)\n",
    "plt.savefig(\"../plots/fyk_pairplot.png\")"
   ]
  },
  {
   "cell_type": "markdown",
   "metadata": {},
   "source": [
    "As far as audio attributes go, the only mild correlation here is for valence, which Spotify's website roughly equates to the mood of the song. Valence [roughly maps to the mood of the song](https://insights.spotify.com/us/2013/11/05/musics-emotion-over-time/), so lower valence is sadder and higher valence is happier. Guess I should make \"darker\" sounding music."
   ]
  },
  {
   "cell_type": "markdown",
   "metadata": {},
   "source": [
    "## Herbie Hancock\n",
    "Let's take this idea - data science-ing your way to musical understanding - and apply it to an artist with a long and diverse musical career: Herbie Hancock. "
   ]
  },
  {
   "cell_type": "markdown",
   "metadata": {},
   "source": [
    "### Who is Herbie Hancock?\n",
    "Herbie's musical career has spanned over five decades, starting off as a premier jazz piano player for Miles Davis and Wayne Shorter, to funking it up in the late 70s and 80s, to film scoring, to hip hop, and to one of the few grammy Album of the Year awards with 2007's \"The Joni Mitchell Letters\". His musical chameleon is still in full force, as his next album is rumored to feature contemporary hip hop royalty such as Kendrick Lamar, Snoop Dogg, and Terrace Martin.\n",
    "\n",
    "Let's see what Spotify's API can tell us about Herbie's prodigious career."
   ]
  },
  {
   "cell_type": "markdown",
   "metadata": {},
   "source": [
    "### Getting the data"
   ]
  },
  {
   "cell_type": "code",
   "execution_count": 23,
   "metadata": {},
   "outputs": [],
   "source": [
    "# get all albums for for Herbie Hancock\n",
    "results = sp.artist_albums('spotify:artist:2ZvrvbQNrHKwjT7qfGFFUW', \n",
    "                           album_type='album',\n",
    "                           limit=50)\n",
    "\n",
    "results2 = sp.artist_albums('spotify:artist:2ZvrvbQNrHKwjT7qfGFFUW', \n",
    "                           album_type='album',\n",
    "                           limit=50, \n",
    "                           offset=50)"
   ]
  },
  {
   "cell_type": "code",
   "execution_count": 24,
   "metadata": {},
   "outputs": [
    {
     "data": {
      "text/plain": [
       "(54, 14)"
      ]
     },
     "execution_count": 24,
     "metadata": {},
     "output_type": "execute_result"
    }
   ],
   "source": [
    "disco = pd.DataFrame(results['items'] + results2['items'])\n",
    "\n",
    "# drop some duplicate albums\n",
    "disco.drop_duplicates(subset='name', inplace=True)\n",
    "disco.shape"
   ]
  },
  {
   "cell_type": "code",
   "execution_count": 25,
   "metadata": {},
   "outputs": [
    {
     "data": {
      "text/html": [
       "<div>\n",
       "<style scoped>\n",
       "    .dataframe tbody tr th:only-of-type {\n",
       "        vertical-align: middle;\n",
       "    }\n",
       "\n",
       "    .dataframe tbody tr th {\n",
       "        vertical-align: top;\n",
       "    }\n",
       "\n",
       "    .dataframe thead th {\n",
       "        text-align: right;\n",
       "    }\n",
       "</style>\n",
       "<table border=\"1\" class=\"dataframe\">\n",
       "  <thead>\n",
       "    <tr style=\"text-align: right;\">\n",
       "      <th></th>\n",
       "      <th>album_group</th>\n",
       "      <th>album_type</th>\n",
       "      <th>artists</th>\n",
       "      <th>available_markets</th>\n",
       "      <th>external_urls</th>\n",
       "      <th>href</th>\n",
       "      <th>id</th>\n",
       "      <th>images</th>\n",
       "      <th>name</th>\n",
       "      <th>release_date</th>\n",
       "      <th>release_date_precision</th>\n",
       "      <th>total_tracks</th>\n",
       "      <th>type</th>\n",
       "      <th>uri</th>\n",
       "    </tr>\n",
       "  </thead>\n",
       "  <tbody>\n",
       "    <tr>\n",
       "      <th>0</th>\n",
       "      <td>album</td>\n",
       "      <td>album</td>\n",
       "      <td>[{'external_urls': {'spotify': 'https://open.s...</td>\n",
       "      <td>[AD, AR, AT, AU, BE, BG, BO, BR, CA, CH, CL, C...</td>\n",
       "      <td>{'spotify': 'https://open.spotify.com/album/2j...</td>\n",
       "      <td>https://api.spotify.com/v1/albums/2j7LHh4IcOyD...</td>\n",
       "      <td>2j7LHh4IcOyD5AQZZVZgjc</td>\n",
       "      <td>[{'height': 640, 'url': 'https://i.scdn.co/ima...</td>\n",
       "      <td>Monster (Expanded Edition)</td>\n",
       "      <td>2016-06-17</td>\n",
       "      <td>day</td>\n",
       "      <td>12</td>\n",
       "      <td>album</td>\n",
       "      <td>spotify:album:2j7LHh4IcOyD5AQZZVZgjc</td>\n",
       "    </tr>\n",
       "    <tr>\n",
       "      <th>1</th>\n",
       "      <td>album</td>\n",
       "      <td>album</td>\n",
       "      <td>[{'external_urls': {'spotify': 'https://open.s...</td>\n",
       "      <td>[AD, AR, AT, AU, BE, BG, BO, BR, CA, CH, CL, C...</td>\n",
       "      <td>{'spotify': 'https://open.spotify.com/album/6U...</td>\n",
       "      <td>https://api.spotify.com/v1/albums/6UlYBgWI5GaH...</td>\n",
       "      <td>6UlYBgWI5GaHuBwBmdSvPy</td>\n",
       "      <td>[{'height': 600, 'url': 'https://i.scdn.co/ima...</td>\n",
       "      <td>Now Playing Herbie Hancock</td>\n",
       "      <td>2016-04-22</td>\n",
       "      <td>day</td>\n",
       "      <td>50</td>\n",
       "      <td>album</td>\n",
       "      <td>spotify:album:6UlYBgWI5GaHuBwBmdSvPy</td>\n",
       "    </tr>\n",
       "    <tr>\n",
       "      <th>2</th>\n",
       "      <td>album</td>\n",
       "      <td>album</td>\n",
       "      <td>[{'external_urls': {'spotify': 'https://open.s...</td>\n",
       "      <td>[AD, AR, AT, AU, BE, BG, BO, BR, CA, CH, CL, C...</td>\n",
       "      <td>{'spotify': 'https://open.spotify.com/album/1W...</td>\n",
       "      <td>https://api.spotify.com/v1/albums/1WacHRxZ1QHM...</td>\n",
       "      <td>1WacHRxZ1QHMzRZ2WH96gt</td>\n",
       "      <td>[{'height': 640, 'url': 'https://i.scdn.co/ima...</td>\n",
       "      <td>The Imagine Project</td>\n",
       "      <td>2010-06-21</td>\n",
       "      <td>day</td>\n",
       "      <td>10</td>\n",
       "      <td>album</td>\n",
       "      <td>spotify:album:1WacHRxZ1QHMzRZ2WH96gt</td>\n",
       "    </tr>\n",
       "    <tr>\n",
       "      <th>4</th>\n",
       "      <td>album</td>\n",
       "      <td>album</td>\n",
       "      <td>[{'external_urls': {'spotify': 'https://open.s...</td>\n",
       "      <td>[AD, AR, AT, AU, BE, BG, BO, BR, CA, CH, CL, C...</td>\n",
       "      <td>{'spotify': 'https://open.spotify.com/album/4S...</td>\n",
       "      <td>https://api.spotify.com/v1/albums/4S4pN2riMj55...</td>\n",
       "      <td>4S4pN2riMj555wnu08q0Bw</td>\n",
       "      <td>[{'height': 637, 'url': 'https://i.scdn.co/ima...</td>\n",
       "      <td>Les Incontournables du jazz : Herbie Hancock</td>\n",
       "      <td>2007-11-01</td>\n",
       "      <td>day</td>\n",
       "      <td>5</td>\n",
       "      <td>album</td>\n",
       "      <td>spotify:album:4S4pN2riMj555wnu08q0Bw</td>\n",
       "    </tr>\n",
       "    <tr>\n",
       "      <th>5</th>\n",
       "      <td>album</td>\n",
       "      <td>album</td>\n",
       "      <td>[{'external_urls': {'spotify': 'https://open.s...</td>\n",
       "      <td>[AD, AR, AT, AU, BE, BG, BO, BR, CA, CH, CL, C...</td>\n",
       "      <td>{'spotify': 'https://open.spotify.com/album/3P...</td>\n",
       "      <td>https://api.spotify.com/v1/albums/3POVQYTvE1DY...</td>\n",
       "      <td>3POVQYTvE1DYjlLWulZpTR</td>\n",
       "      <td>[{'height': 634, 'url': 'https://i.scdn.co/ima...</td>\n",
       "      <td>River: The Joni Letters (Expanded Edition)</td>\n",
       "      <td>2007-09-25</td>\n",
       "      <td>day</td>\n",
       "      <td>14</td>\n",
       "      <td>album</td>\n",
       "      <td>spotify:album:3POVQYTvE1DYjlLWulZpTR</td>\n",
       "    </tr>\n",
       "  </tbody>\n",
       "</table>\n",
       "</div>"
      ],
      "text/plain": [
       "  album_group album_type                                            artists  \\\n",
       "0       album      album  [{'external_urls': {'spotify': 'https://open.s...   \n",
       "1       album      album  [{'external_urls': {'spotify': 'https://open.s...   \n",
       "2       album      album  [{'external_urls': {'spotify': 'https://open.s...   \n",
       "4       album      album  [{'external_urls': {'spotify': 'https://open.s...   \n",
       "5       album      album  [{'external_urls': {'spotify': 'https://open.s...   \n",
       "\n",
       "                                   available_markets  \\\n",
       "0  [AD, AR, AT, AU, BE, BG, BO, BR, CA, CH, CL, C...   \n",
       "1  [AD, AR, AT, AU, BE, BG, BO, BR, CA, CH, CL, C...   \n",
       "2  [AD, AR, AT, AU, BE, BG, BO, BR, CA, CH, CL, C...   \n",
       "4  [AD, AR, AT, AU, BE, BG, BO, BR, CA, CH, CL, C...   \n",
       "5  [AD, AR, AT, AU, BE, BG, BO, BR, CA, CH, CL, C...   \n",
       "\n",
       "                                       external_urls  \\\n",
       "0  {'spotify': 'https://open.spotify.com/album/2j...   \n",
       "1  {'spotify': 'https://open.spotify.com/album/6U...   \n",
       "2  {'spotify': 'https://open.spotify.com/album/1W...   \n",
       "4  {'spotify': 'https://open.spotify.com/album/4S...   \n",
       "5  {'spotify': 'https://open.spotify.com/album/3P...   \n",
       "\n",
       "                                                href                      id  \\\n",
       "0  https://api.spotify.com/v1/albums/2j7LHh4IcOyD...  2j7LHh4IcOyD5AQZZVZgjc   \n",
       "1  https://api.spotify.com/v1/albums/6UlYBgWI5GaH...  6UlYBgWI5GaHuBwBmdSvPy   \n",
       "2  https://api.spotify.com/v1/albums/1WacHRxZ1QHM...  1WacHRxZ1QHMzRZ2WH96gt   \n",
       "4  https://api.spotify.com/v1/albums/4S4pN2riMj55...  4S4pN2riMj555wnu08q0Bw   \n",
       "5  https://api.spotify.com/v1/albums/3POVQYTvE1DY...  3POVQYTvE1DYjlLWulZpTR   \n",
       "\n",
       "                                              images  \\\n",
       "0  [{'height': 640, 'url': 'https://i.scdn.co/ima...   \n",
       "1  [{'height': 600, 'url': 'https://i.scdn.co/ima...   \n",
       "2  [{'height': 640, 'url': 'https://i.scdn.co/ima...   \n",
       "4  [{'height': 637, 'url': 'https://i.scdn.co/ima...   \n",
       "5  [{'height': 634, 'url': 'https://i.scdn.co/ima...   \n",
       "\n",
       "                                           name release_date  \\\n",
       "0                    Monster (Expanded Edition)   2016-06-17   \n",
       "1                    Now Playing Herbie Hancock   2016-04-22   \n",
       "2                           The Imagine Project   2010-06-21   \n",
       "4  Les Incontournables du jazz : Herbie Hancock   2007-11-01   \n",
       "5    River: The Joni Letters (Expanded Edition)   2007-09-25   \n",
       "\n",
       "  release_date_precision  total_tracks   type  \\\n",
       "0                    day            12  album   \n",
       "1                    day            50  album   \n",
       "2                    day            10  album   \n",
       "4                    day             5  album   \n",
       "5                    day            14  album   \n",
       "\n",
       "                                    uri  \n",
       "0  spotify:album:2j7LHh4IcOyD5AQZZVZgjc  \n",
       "1  spotify:album:6UlYBgWI5GaHuBwBmdSvPy  \n",
       "2  spotify:album:1WacHRxZ1QHMzRZ2WH96gt  \n",
       "4  spotify:album:4S4pN2riMj555wnu08q0Bw  \n",
       "5  spotify:album:3POVQYTvE1DYjlLWulZpTR  "
      ]
     },
     "execution_count": 25,
     "metadata": {},
     "output_type": "execute_result"
    }
   ],
   "source": [
    "disco.head()"
   ]
  },
  {
   "cell_type": "markdown",
   "metadata": {},
   "source": [
    "Getting audio attributes for these albums is trickier because audio attributes are only calculated at the track level in the Spotify API. Ideally we want these attributes at the album level, since this is the level of detail with which we should be thinking about Herbie's work. To estimate audio attribues at the album level, we will simply take the mean value per audio attribute across all the tracks within the album."
   ]
  },
  {
   "cell_type": "code",
   "execution_count": 26,
   "metadata": {},
   "outputs": [],
   "source": [
    "# for a given album, get audio attributes for each track and return a df with the mean values\n",
    "def get_album_audio(uri):\n",
    "    tracks = sp.album_tracks(uri)\n",
    "    tracks_df = pd.DataFrame(tracks['items'])\n",
    "    audio_results = sp.audio_features(tracks_df.uri)\n",
    "    \n",
    "    audio_df = pd.DataFrame(audio_results)\n",
    "    audio_aggregate = audio_df.mean().to_frame().unstack().unstack()\n",
    "    return audio_aggregate"
   ]
  },
  {
   "cell_type": "code",
   "execution_count": 27,
   "metadata": {},
   "outputs": [],
   "source": [
    "# for a given album, get its popularity and list of genres\n",
    "def get_album_popularity(uri):\n",
    "    album = sp.album(uri)\n",
    "    popularity = album['popularity']\n",
    "    genres = album['genres']\n",
    "    album_df = pd.DataFrame({\"popularity\": [popularity], \"genres\": [genres]})\n",
    "    return album_df"
   ]
  },
  {
   "cell_type": "code",
   "execution_count": 28,
   "metadata": {},
   "outputs": [],
   "source": [
    "# loop through all album URIs, get the average audio attributes by track for those albums and popularity and return a new df\n",
    "album_data = pd.DataFrame({})\n",
    "for uri in disco.uri:\n",
    "    audio = get_album_audio(uri)\n",
    "    pop = get_album_popularity(uri)\n",
    "    df_merge = audio.merge(pop, how='outer', left_index=True, right_index=True)\n",
    "    df_merge['uri'] = uri\n",
    "    \n",
    "    album_data = pd.concat([album_data, df_merge])"
   ]
  },
  {
   "cell_type": "code",
   "execution_count": 29,
   "metadata": {},
   "outputs": [
    {
     "data": {
      "text/html": [
       "<div>\n",
       "<style scoped>\n",
       "    .dataframe tbody tr th:only-of-type {\n",
       "        vertical-align: middle;\n",
       "    }\n",
       "\n",
       "    .dataframe tbody tr th {\n",
       "        vertical-align: top;\n",
       "    }\n",
       "\n",
       "    .dataframe thead th {\n",
       "        text-align: right;\n",
       "    }\n",
       "</style>\n",
       "<table border=\"1\" class=\"dataframe\">\n",
       "  <thead>\n",
       "    <tr style=\"text-align: right;\">\n",
       "      <th></th>\n",
       "      <th>acousticness</th>\n",
       "      <th>danceability</th>\n",
       "      <th>duration_ms</th>\n",
       "      <th>energy</th>\n",
       "      <th>instrumentalness</th>\n",
       "      <th>key</th>\n",
       "      <th>liveness</th>\n",
       "      <th>loudness</th>\n",
       "      <th>mode</th>\n",
       "      <th>speechiness</th>\n",
       "      <th>tempo</th>\n",
       "      <th>time_signature</th>\n",
       "      <th>valence</th>\n",
       "      <th>popularity</th>\n",
       "      <th>genres</th>\n",
       "      <th>uri</th>\n",
       "    </tr>\n",
       "  </thead>\n",
       "  <tbody>\n",
       "    <tr>\n",
       "      <th>0</th>\n",
       "      <td>0.037471</td>\n",
       "      <td>0.715083</td>\n",
       "      <td>377647.666667</td>\n",
       "      <td>0.716000</td>\n",
       "      <td>0.069980</td>\n",
       "      <td>6.250000</td>\n",
       "      <td>0.141125</td>\n",
       "      <td>-10.423167</td>\n",
       "      <td>0.500000</td>\n",
       "      <td>0.046708</td>\n",
       "      <td>115.126750</td>\n",
       "      <td>4.000000</td>\n",
       "      <td>0.870167</td>\n",
       "      <td>36</td>\n",
       "      <td>[]</td>\n",
       "      <td>spotify:album:2j7LHh4IcOyD5AQZZVZgjc</td>\n",
       "    </tr>\n",
       "    <tr>\n",
       "      <th>0</th>\n",
       "      <td>0.679917</td>\n",
       "      <td>0.486440</td>\n",
       "      <td>368550.420000</td>\n",
       "      <td>0.314158</td>\n",
       "      <td>0.467971</td>\n",
       "      <td>4.640000</td>\n",
       "      <td>0.205846</td>\n",
       "      <td>-15.295880</td>\n",
       "      <td>0.660000</td>\n",
       "      <td>0.047074</td>\n",
       "      <td>107.326500</td>\n",
       "      <td>3.860000</td>\n",
       "      <td>0.356914</td>\n",
       "      <td>40</td>\n",
       "      <td>[]</td>\n",
       "      <td>spotify:album:6UlYBgWI5GaHuBwBmdSvPy</td>\n",
       "    </tr>\n",
       "    <tr>\n",
       "      <th>0</th>\n",
       "      <td>0.448961</td>\n",
       "      <td>0.545500</td>\n",
       "      <td>395815.900000</td>\n",
       "      <td>0.608600</td>\n",
       "      <td>0.069291</td>\n",
       "      <td>3.400000</td>\n",
       "      <td>0.167730</td>\n",
       "      <td>-9.654500</td>\n",
       "      <td>0.700000</td>\n",
       "      <td>0.040760</td>\n",
       "      <td>125.087700</td>\n",
       "      <td>3.700000</td>\n",
       "      <td>0.435000</td>\n",
       "      <td>27</td>\n",
       "      <td>[]</td>\n",
       "      <td>spotify:album:1WacHRxZ1QHMzRZ2WH96gt</td>\n",
       "    </tr>\n",
       "    <tr>\n",
       "      <th>0</th>\n",
       "      <td>0.667200</td>\n",
       "      <td>0.390600</td>\n",
       "      <td>460389.200000</td>\n",
       "      <td>0.410160</td>\n",
       "      <td>0.544600</td>\n",
       "      <td>4.000000</td>\n",
       "      <td>0.165820</td>\n",
       "      <td>-15.961200</td>\n",
       "      <td>0.000000</td>\n",
       "      <td>0.042120</td>\n",
       "      <td>128.615800</td>\n",
       "      <td>3.800000</td>\n",
       "      <td>0.398800</td>\n",
       "      <td>10</td>\n",
       "      <td>[]</td>\n",
       "      <td>spotify:album:4S4pN2riMj555wnu08q0Bw</td>\n",
       "    </tr>\n",
       "    <tr>\n",
       "      <th>0</th>\n",
       "      <td>0.870000</td>\n",
       "      <td>0.488143</td>\n",
       "      <td>413924.857143</td>\n",
       "      <td>0.257036</td>\n",
       "      <td>0.197736</td>\n",
       "      <td>5.714286</td>\n",
       "      <td>0.116014</td>\n",
       "      <td>-13.862214</td>\n",
       "      <td>0.785714</td>\n",
       "      <td>0.038786</td>\n",
       "      <td>120.038571</td>\n",
       "      <td>3.642857</td>\n",
       "      <td>0.258500</td>\n",
       "      <td>25</td>\n",
       "      <td>[]</td>\n",
       "      <td>spotify:album:3POVQYTvE1DYjlLWulZpTR</td>\n",
       "    </tr>\n",
       "  </tbody>\n",
       "</table>\n",
       "</div>"
      ],
      "text/plain": [
       "   acousticness  danceability    duration_ms    energy  instrumentalness  \\\n",
       "0      0.037471      0.715083  377647.666667  0.716000          0.069980   \n",
       "0      0.679917      0.486440  368550.420000  0.314158          0.467971   \n",
       "0      0.448961      0.545500  395815.900000  0.608600          0.069291   \n",
       "0      0.667200      0.390600  460389.200000  0.410160          0.544600   \n",
       "0      0.870000      0.488143  413924.857143  0.257036          0.197736   \n",
       "\n",
       "        key  liveness   loudness      mode  speechiness       tempo  \\\n",
       "0  6.250000  0.141125 -10.423167  0.500000     0.046708  115.126750   \n",
       "0  4.640000  0.205846 -15.295880  0.660000     0.047074  107.326500   \n",
       "0  3.400000  0.167730  -9.654500  0.700000     0.040760  125.087700   \n",
       "0  4.000000  0.165820 -15.961200  0.000000     0.042120  128.615800   \n",
       "0  5.714286  0.116014 -13.862214  0.785714     0.038786  120.038571   \n",
       "\n",
       "   time_signature   valence  popularity genres  \\\n",
       "0        4.000000  0.870167          36     []   \n",
       "0        3.860000  0.356914          40     []   \n",
       "0        3.700000  0.435000          27     []   \n",
       "0        3.800000  0.398800          10     []   \n",
       "0        3.642857  0.258500          25     []   \n",
       "\n",
       "                                    uri  \n",
       "0  spotify:album:2j7LHh4IcOyD5AQZZVZgjc  \n",
       "0  spotify:album:6UlYBgWI5GaHuBwBmdSvPy  \n",
       "0  spotify:album:1WacHRxZ1QHMzRZ2WH96gt  \n",
       "0  spotify:album:4S4pN2riMj555wnu08q0Bw  \n",
       "0  spotify:album:3POVQYTvE1DYjlLWulZpTR  "
      ]
     },
     "execution_count": 29,
     "metadata": {},
     "output_type": "execute_result"
    }
   ],
   "source": [
    "album_data.head()"
   ]
  },
  {
   "cell_type": "code",
   "execution_count": 30,
   "metadata": {},
   "outputs": [
    {
     "data": {
      "text/html": [
       "<div>\n",
       "<style scoped>\n",
       "    .dataframe tbody tr th:only-of-type {\n",
       "        vertical-align: middle;\n",
       "    }\n",
       "\n",
       "    .dataframe tbody tr th {\n",
       "        vertical-align: top;\n",
       "    }\n",
       "\n",
       "    .dataframe thead th {\n",
       "        text-align: right;\n",
       "    }\n",
       "</style>\n",
       "<table border=\"1\" class=\"dataframe\">\n",
       "  <thead>\n",
       "    <tr style=\"text-align: right;\">\n",
       "      <th></th>\n",
       "      <th>album_group</th>\n",
       "      <th>album_type</th>\n",
       "      <th>artists</th>\n",
       "      <th>available_markets</th>\n",
       "      <th>external_urls</th>\n",
       "      <th>href</th>\n",
       "      <th>id</th>\n",
       "      <th>images</th>\n",
       "      <th>name</th>\n",
       "      <th>release_date</th>\n",
       "      <th>...</th>\n",
       "      <th>key</th>\n",
       "      <th>liveness</th>\n",
       "      <th>loudness</th>\n",
       "      <th>mode</th>\n",
       "      <th>speechiness</th>\n",
       "      <th>tempo</th>\n",
       "      <th>time_signature</th>\n",
       "      <th>valence</th>\n",
       "      <th>popularity</th>\n",
       "      <th>genres</th>\n",
       "    </tr>\n",
       "    <tr>\n",
       "      <th>release_date</th>\n",
       "      <th></th>\n",
       "      <th></th>\n",
       "      <th></th>\n",
       "      <th></th>\n",
       "      <th></th>\n",
       "      <th></th>\n",
       "      <th></th>\n",
       "      <th></th>\n",
       "      <th></th>\n",
       "      <th></th>\n",
       "      <th></th>\n",
       "      <th></th>\n",
       "      <th></th>\n",
       "      <th></th>\n",
       "      <th></th>\n",
       "      <th></th>\n",
       "      <th></th>\n",
       "      <th></th>\n",
       "      <th></th>\n",
       "      <th></th>\n",
       "      <th></th>\n",
       "    </tr>\n",
       "  </thead>\n",
       "  <tbody>\n",
       "    <tr>\n",
       "      <th>2016-06-17</th>\n",
       "      <td>album</td>\n",
       "      <td>album</td>\n",
       "      <td>[{'external_urls': {'spotify': 'https://open.s...</td>\n",
       "      <td>[AD, AR, AT, AU, BE, BG, BO, BR, CA, CH, CL, C...</td>\n",
       "      <td>{'spotify': 'https://open.spotify.com/album/2j...</td>\n",
       "      <td>https://api.spotify.com/v1/albums/2j7LHh4IcOyD...</td>\n",
       "      <td>2j7LHh4IcOyD5AQZZVZgjc</td>\n",
       "      <td>[{'height': 640, 'url': 'https://i.scdn.co/ima...</td>\n",
       "      <td>Monster (Expanded Edition)</td>\n",
       "      <td>2016-06-17</td>\n",
       "      <td>...</td>\n",
       "      <td>6.250000</td>\n",
       "      <td>0.141125</td>\n",
       "      <td>-10.423167</td>\n",
       "      <td>0.500000</td>\n",
       "      <td>0.046708</td>\n",
       "      <td>115.126750</td>\n",
       "      <td>4.000000</td>\n",
       "      <td>0.870167</td>\n",
       "      <td>36</td>\n",
       "      <td>[]</td>\n",
       "    </tr>\n",
       "    <tr>\n",
       "      <th>2016-04-22</th>\n",
       "      <td>album</td>\n",
       "      <td>album</td>\n",
       "      <td>[{'external_urls': {'spotify': 'https://open.s...</td>\n",
       "      <td>[AD, AR, AT, AU, BE, BG, BO, BR, CA, CH, CL, C...</td>\n",
       "      <td>{'spotify': 'https://open.spotify.com/album/6U...</td>\n",
       "      <td>https://api.spotify.com/v1/albums/6UlYBgWI5GaH...</td>\n",
       "      <td>6UlYBgWI5GaHuBwBmdSvPy</td>\n",
       "      <td>[{'height': 600, 'url': 'https://i.scdn.co/ima...</td>\n",
       "      <td>Now Playing Herbie Hancock</td>\n",
       "      <td>2016-04-22</td>\n",
       "      <td>...</td>\n",
       "      <td>4.640000</td>\n",
       "      <td>0.205846</td>\n",
       "      <td>-15.295880</td>\n",
       "      <td>0.660000</td>\n",
       "      <td>0.047074</td>\n",
       "      <td>107.326500</td>\n",
       "      <td>3.860000</td>\n",
       "      <td>0.356914</td>\n",
       "      <td>40</td>\n",
       "      <td>[]</td>\n",
       "    </tr>\n",
       "    <tr>\n",
       "      <th>2010-06-21</th>\n",
       "      <td>album</td>\n",
       "      <td>album</td>\n",
       "      <td>[{'external_urls': {'spotify': 'https://open.s...</td>\n",
       "      <td>[AD, AR, AT, AU, BE, BG, BO, BR, CA, CH, CL, C...</td>\n",
       "      <td>{'spotify': 'https://open.spotify.com/album/1W...</td>\n",
       "      <td>https://api.spotify.com/v1/albums/1WacHRxZ1QHM...</td>\n",
       "      <td>1WacHRxZ1QHMzRZ2WH96gt</td>\n",
       "      <td>[{'height': 640, 'url': 'https://i.scdn.co/ima...</td>\n",
       "      <td>The Imagine Project</td>\n",
       "      <td>2010-06-21</td>\n",
       "      <td>...</td>\n",
       "      <td>3.400000</td>\n",
       "      <td>0.167730</td>\n",
       "      <td>-9.654500</td>\n",
       "      <td>0.700000</td>\n",
       "      <td>0.040760</td>\n",
       "      <td>125.087700</td>\n",
       "      <td>3.700000</td>\n",
       "      <td>0.435000</td>\n",
       "      <td>27</td>\n",
       "      <td>[]</td>\n",
       "    </tr>\n",
       "    <tr>\n",
       "      <th>2007-11-01</th>\n",
       "      <td>album</td>\n",
       "      <td>album</td>\n",
       "      <td>[{'external_urls': {'spotify': 'https://open.s...</td>\n",
       "      <td>[AD, AR, AT, AU, BE, BG, BO, BR, CA, CH, CL, C...</td>\n",
       "      <td>{'spotify': 'https://open.spotify.com/album/4S...</td>\n",
       "      <td>https://api.spotify.com/v1/albums/4S4pN2riMj55...</td>\n",
       "      <td>4S4pN2riMj555wnu08q0Bw</td>\n",
       "      <td>[{'height': 637, 'url': 'https://i.scdn.co/ima...</td>\n",
       "      <td>Les Incontournables du jazz : Herbie Hancock</td>\n",
       "      <td>2007-11-01</td>\n",
       "      <td>...</td>\n",
       "      <td>4.000000</td>\n",
       "      <td>0.165820</td>\n",
       "      <td>-15.961200</td>\n",
       "      <td>0.000000</td>\n",
       "      <td>0.042120</td>\n",
       "      <td>128.615800</td>\n",
       "      <td>3.800000</td>\n",
       "      <td>0.398800</td>\n",
       "      <td>10</td>\n",
       "      <td>[]</td>\n",
       "    </tr>\n",
       "    <tr>\n",
       "      <th>2007-09-25</th>\n",
       "      <td>album</td>\n",
       "      <td>album</td>\n",
       "      <td>[{'external_urls': {'spotify': 'https://open.s...</td>\n",
       "      <td>[AD, AR, AT, AU, BE, BG, BO, BR, CA, CH, CL, C...</td>\n",
       "      <td>{'spotify': 'https://open.spotify.com/album/3P...</td>\n",
       "      <td>https://api.spotify.com/v1/albums/3POVQYTvE1DY...</td>\n",
       "      <td>3POVQYTvE1DYjlLWulZpTR</td>\n",
       "      <td>[{'height': 634, 'url': 'https://i.scdn.co/ima...</td>\n",
       "      <td>River: The Joni Letters (Expanded Edition)</td>\n",
       "      <td>2007-09-25</td>\n",
       "      <td>...</td>\n",
       "      <td>5.714286</td>\n",
       "      <td>0.116014</td>\n",
       "      <td>-13.862214</td>\n",
       "      <td>0.785714</td>\n",
       "      <td>0.038786</td>\n",
       "      <td>120.038571</td>\n",
       "      <td>3.642857</td>\n",
       "      <td>0.258500</td>\n",
       "      <td>25</td>\n",
       "      <td>[]</td>\n",
       "    </tr>\n",
       "  </tbody>\n",
       "</table>\n",
       "<p>5 rows × 29 columns</p>\n",
       "</div>"
      ],
      "text/plain": [
       "             album_group album_type  \\\n",
       "release_date                          \n",
       "2016-06-17         album      album   \n",
       "2016-04-22         album      album   \n",
       "2010-06-21         album      album   \n",
       "2007-11-01         album      album   \n",
       "2007-09-25         album      album   \n",
       "\n",
       "                                                        artists  \\\n",
       "release_date                                                      \n",
       "2016-06-17    [{'external_urls': {'spotify': 'https://open.s...   \n",
       "2016-04-22    [{'external_urls': {'spotify': 'https://open.s...   \n",
       "2010-06-21    [{'external_urls': {'spotify': 'https://open.s...   \n",
       "2007-11-01    [{'external_urls': {'spotify': 'https://open.s...   \n",
       "2007-09-25    [{'external_urls': {'spotify': 'https://open.s...   \n",
       "\n",
       "                                              available_markets  \\\n",
       "release_date                                                      \n",
       "2016-06-17    [AD, AR, AT, AU, BE, BG, BO, BR, CA, CH, CL, C...   \n",
       "2016-04-22    [AD, AR, AT, AU, BE, BG, BO, BR, CA, CH, CL, C...   \n",
       "2010-06-21    [AD, AR, AT, AU, BE, BG, BO, BR, CA, CH, CL, C...   \n",
       "2007-11-01    [AD, AR, AT, AU, BE, BG, BO, BR, CA, CH, CL, C...   \n",
       "2007-09-25    [AD, AR, AT, AU, BE, BG, BO, BR, CA, CH, CL, C...   \n",
       "\n",
       "                                                  external_urls  \\\n",
       "release_date                                                      \n",
       "2016-06-17    {'spotify': 'https://open.spotify.com/album/2j...   \n",
       "2016-04-22    {'spotify': 'https://open.spotify.com/album/6U...   \n",
       "2010-06-21    {'spotify': 'https://open.spotify.com/album/1W...   \n",
       "2007-11-01    {'spotify': 'https://open.spotify.com/album/4S...   \n",
       "2007-09-25    {'spotify': 'https://open.spotify.com/album/3P...   \n",
       "\n",
       "                                                           href  \\\n",
       "release_date                                                      \n",
       "2016-06-17    https://api.spotify.com/v1/albums/2j7LHh4IcOyD...   \n",
       "2016-04-22    https://api.spotify.com/v1/albums/6UlYBgWI5GaH...   \n",
       "2010-06-21    https://api.spotify.com/v1/albums/1WacHRxZ1QHM...   \n",
       "2007-11-01    https://api.spotify.com/v1/albums/4S4pN2riMj55...   \n",
       "2007-09-25    https://api.spotify.com/v1/albums/3POVQYTvE1DY...   \n",
       "\n",
       "                                  id  \\\n",
       "release_date                           \n",
       "2016-06-17    2j7LHh4IcOyD5AQZZVZgjc   \n",
       "2016-04-22    6UlYBgWI5GaHuBwBmdSvPy   \n",
       "2010-06-21    1WacHRxZ1QHMzRZ2WH96gt   \n",
       "2007-11-01    4S4pN2riMj555wnu08q0Bw   \n",
       "2007-09-25    3POVQYTvE1DYjlLWulZpTR   \n",
       "\n",
       "                                                         images  \\\n",
       "release_date                                                      \n",
       "2016-06-17    [{'height': 640, 'url': 'https://i.scdn.co/ima...   \n",
       "2016-04-22    [{'height': 600, 'url': 'https://i.scdn.co/ima...   \n",
       "2010-06-21    [{'height': 640, 'url': 'https://i.scdn.co/ima...   \n",
       "2007-11-01    [{'height': 637, 'url': 'https://i.scdn.co/ima...   \n",
       "2007-09-25    [{'height': 634, 'url': 'https://i.scdn.co/ima...   \n",
       "\n",
       "                                                      name release_date  \\\n",
       "release_date                                                              \n",
       "2016-06-17                      Monster (Expanded Edition)   2016-06-17   \n",
       "2016-04-22                      Now Playing Herbie Hancock   2016-04-22   \n",
       "2010-06-21                             The Imagine Project   2010-06-21   \n",
       "2007-11-01    Les Incontournables du jazz : Herbie Hancock   2007-11-01   \n",
       "2007-09-25      River: The Joni Letters (Expanded Edition)   2007-09-25   \n",
       "\n",
       "               ...         key  liveness   loudness      mode  speechiness  \\\n",
       "release_date   ...                                                           \n",
       "2016-06-17     ...    6.250000  0.141125 -10.423167  0.500000     0.046708   \n",
       "2016-04-22     ...    4.640000  0.205846 -15.295880  0.660000     0.047074   \n",
       "2010-06-21     ...    3.400000  0.167730  -9.654500  0.700000     0.040760   \n",
       "2007-11-01     ...    4.000000  0.165820 -15.961200  0.000000     0.042120   \n",
       "2007-09-25     ...    5.714286  0.116014 -13.862214  0.785714     0.038786   \n",
       "\n",
       "                   tempo  time_signature   valence  popularity  genres  \n",
       "release_date                                                            \n",
       "2016-06-17    115.126750        4.000000  0.870167          36      []  \n",
       "2016-04-22    107.326500        3.860000  0.356914          40      []  \n",
       "2010-06-21    125.087700        3.700000  0.435000          27      []  \n",
       "2007-11-01    128.615800        3.800000  0.398800          10      []  \n",
       "2007-09-25    120.038571        3.642857  0.258500          25      []  \n",
       "\n",
       "[5 rows x 29 columns]"
      ]
     },
     "execution_count": 30,
     "metadata": {},
     "output_type": "execute_result"
    }
   ],
   "source": [
    "disco_full = disco.merge(album_data, on='uri')\n",
    "disco_full.set_index(pd.to_datetime(disco_full.release_date), inplace=True)\n",
    "disco_full.head()"
   ]
  },
  {
   "cell_type": "markdown",
   "metadata": {},
   "source": [
    "### How prolific is he?"
   ]
  },
  {
   "cell_type": "markdown",
   "metadata": {},
   "source": [
    "His debut album, \"Takin' Off\" was released in 1962. He's averaged 1 album release every year since then, no small feat for a career lasting 5 decades, totaling 54 albums on Spotify (though granted some of these are compilations). By the time Herbie Hancock was 25, he would've released two of the most seminal jazz albums of all time (Maiden Voyage, Empyrean Isles), sidemanned on Wayne Shorter's classic, \"Speak No Evil\", and would be in the heat of Miles Davis's Second Great Quintet. Makes me wonder what the f*** I've been spending my time doing. \n",
    "\n",
    "The remarkable thing about Herbie Hancock is his ability to adapt his style over time. Let's take a look at his releases over time."
   ]
  },
  {
   "cell_type": "code",
   "execution_count": 31,
   "metadata": {},
   "outputs": [
    {
     "data": {
      "text/plain": [
       "1.0612244897959184"
      ]
     },
     "execution_count": 31,
     "metadata": {},
     "output_type": "execute_result"
    }
   ],
   "source": [
    "disco_full.resample(\"AS\").size().loc[:'2010'].mean()"
   ]
  },
  {
   "cell_type": "code",
   "execution_count": 32,
   "metadata": {},
   "outputs": [],
   "source": [
    "import matplotlib.dates as mdates\n",
    "myFmt = mdates.DateFormatter('%Y')"
   ]
  },
  {
   "cell_type": "code",
   "execution_count": 33,
   "metadata": {},
   "outputs": [
    {
     "data": {
      "image/png": "[encoded data removed]",
      "text/plain": [
       "<Figure size 432x288 with 1 Axes>"
      ]
     },
     "metadata": {},
     "output_type": "display_data"
    }
   ],
   "source": [
    "fig = disco_full.resample(\"AS\").size().plot(kind='line', color='gray', title='# of Releases per Year')\n",
    "plt.xlabel('')\n",
    "plt.savefig('../plots/releases.png')\n"
   ]
  },
  {
   "cell_type": "code",
   "execution_count": 34,
   "metadata": {},
   "outputs": [
    {
     "data": {
      "text/plain": [
       "DatetimeIndex(['1962-01-01', '1967-01-01', '1972-01-01', '1977-01-01',\n",
       "               '1982-01-01', '1987-01-01', '1992-01-01', '1997-01-01',\n",
       "               '2002-01-01', '2007-01-01', '2012-01-01', '2017-01-01'],\n",
       "              dtype='datetime64[ns]', name='release_date', freq=None)"
      ]
     },
     "execution_count": 34,
     "metadata": {},
     "output_type": "execute_result"
    }
   ],
   "source": [
    "disco_full.resample(\"5AS\").size().index"
   ]
  },
  {
   "cell_type": "markdown",
   "metadata": {},
   "source": [
    "He was most prolific between 1977 and 1982 (14 albums in a 5 year period). At this point in Herbie's career, he started expanding beyond his signature modal style into electronic/funk sounds. This part of his career gave us classics like Sunlight (1978)."
   ]
  },
  {
   "cell_type": "raw",
   "metadata": {},
   "source": [
    "Maybe Spotify's audio attributes can help us visualize this sonic change in Herbie's career. Let's look at Herbie albums' average \"danceability\" score over time."
   ]
  },
  {
   "cell_type": "code",
   "execution_count": 37,
   "metadata": {},
   "outputs": [
    {
     "data": {
      "text/plain": [
       "release_date\n",
       "1962-01-01    0.529111\n",
       "1963-01-01    0.546750\n",
       "1964-01-01    0.473500\n",
       "1965-01-01    0.429400\n",
       "1966-01-01    0.429400\n",
       "Freq: AS-JAN, Name: danceability, dtype: float64"
      ]
     },
     "execution_count": 37,
     "metadata": {},
     "output_type": "execute_result"
    }
   ],
   "source": [
    "disco_full.resample(\"AS\").mean().danceability.fillna(method='ffill').head()"
   ]
  },
  {
   "cell_type": "code",
   "execution_count": 38,
   "metadata": {},
   "outputs": [
    {
     "data": {
      "image/png": "[encoded data removed]",
      "text/plain": [
       "<Figure size 432x288 with 1 Axes>"
      ]
     },
     "metadata": {},
     "output_type": "display_data"
    }
   ],
   "source": [
    "disco_full.resample(\"AS\").mean().danceability.fillna(method='ffill').plot(kind='line',color='grey', title='Avg Danceability by Release Year')\n",
    "plt.xlabel('')\n",
    "plt.savefig('../plots/danceability.png')"
   ]
  },
  {
   "cell_type": "markdown",
   "metadata": {},
   "source": [
    "We can see danceability start to tick up for Herbie Hancok post-1982. It was around this time that Herbie released what many critics call the first jazz-hip hop record, \"Rockit\" on his 1983 album, Future Shock. This era seems to have peaked and ended with his 1988 release, Perfect Machine, the last of the Rockit band series.\n",
    "\n",
    "This naturally begs the same question I was asking of my own music... are certain audio attributes more or less predictive of success?\n",
    "\n",
    "Unfortunately, I can't get save ratio data for Herbie's music through the Spotify API, but I can get something called \"popularity\" score. Popularity score is a normalized metric from 0-100 (0 being \"least popular\", 100 being \"most popular\") that is a weighted sum of streams, biasing more recent streams over older streams. By weighting recent streams more heavily, it is designed to surface newer, hotter tracks instead of evergreen, catalog tracks (hence the name \"popularity\"). It is the metric that Spotify uses to rank the \"Popular\" tracks carousel on every artist's page. It is the NOT the same as all-time streams, but for some reason Spotify decides to rank by popularity but *visualize* all time streams, which is a mad confusing user experience in my opinion.\n",
    "\n",
    "To give you a taste of how popularity works, here are Herbie Hancock's most popular albums."
   ]
  },
  {
   "cell_type": "code",
   "execution_count": 39,
   "metadata": {},
   "outputs": [
    {
     "data": {
      "text/plain": [
       "name\n",
       "Empyrean Isles                          54\n",
       "Head Hunters                            51\n",
       "Maiden Voyage                           50\n",
       "Cantaloupe Island                       46\n",
       "Takin' Off (Rudy Van Gelder Edition)    45\n",
       "Name: popularity, dtype: int64"
      ]
     },
     "execution_count": 39,
     "metadata": {},
     "output_type": "execute_result"
    }
   ],
   "source": [
    "disco_full.sort_values('popularity', ascending=False).set_index('name')['popularity'].head()"
   ]
  },
  {
   "cell_type": "markdown",
   "metadata": {},
   "source": [
    "I'm surprised to see Empyrean Isles over Head Hunters. Empyrean Isles has that frikkin all star Miles Davis rhythm section (Tony Williams X Ron Carter) plus trumpet legend Freddie Hubbard. Not the most approachable album honestly for casual jazz listeners, but I'd be willing to bet that the Cantaloupe Island recording on this record (debut recording for what is arguably his most famous composition) is programmed a lot on Spotify jazz playlists. In fact, you can see that the biggest playlist Herbie is on is \"Good Morning Jazz\" and lo and behold, there's Cantaloupe Island from Empyrean Isles."
   ]
  },
  {
   "cell_type": "markdown",
   "metadata": {},
   "source": [
    "So popularity isn't perfect since it's clearly still susceptible to programming. Theoretically, it would also weight Herbie's newer catalog higher, but considering Herbie Hancock hasn't released in a while, this shouldn't be a huge confounding factor.\n",
    "\n",
    "Similar to the graph we did above, let's look at the relationship between all the Spotify audio attributes and popularity for each Herbie album."
   ]
  },
  {
   "cell_type": "code",
   "execution_count": 35,
   "metadata": {},
   "outputs": [
    {
     "data": {
      "image/png": "[encoded data removed]",
      "text/plain": [
       "<Figure size 900x180 with 5 Axes>"
      ]
     },
     "metadata": {},
     "output_type": "display_data"
    }
   ],
   "source": [
    "sns.pairplot(data=disco_full, \n",
    "             kind='reg',\n",
    "             x_vars=[\"danceability\", \"energy\",\"instrumentalness\", \"valence\", \"tempo\"],\n",
    "             y_vars=[\"popularity\"]\n",
    "             )\n",
    "plt.savefig(\"herbie_audio_corr.png\")"
   ]
  },
  {
   "cell_type": "markdown",
   "metadata": {},
   "source": [
    "There seem to be mild, positive correlations for more danceable, higher energy, and higher valence Herbie music. This isn't that surprising since popular music generally tends to be higher energy. \n",
    "\n",
    "Instrumentalness has a mild negative correlation with popularity. Anecdotally, I seem to find that most people don't like purely instrumental music and appreciate a little bit of vocals in the music. This effect seems to apply to Herbie as well.\n",
    "\n",
    "What does this mean for Herbie Hancock? I think it bodes well for his next project, which is being produced by hip hop super-producer, Terrace Martin and featuring contemporary jazz/hip hop royalty like Kendrick Lamar, Thundercat, and Snoop Dogg. A high energy album featuring vocalists? Somebody on Herbie's team either has great intuition or has done this same analysis (I think I know which one it'd be...)."
   ]
  },
  {
   "cell_type": "markdown",
   "metadata": {},
   "source": [
    "### For real though, data-informed artist development?"
   ]
  },
  {
   "cell_type": "markdown",
   "metadata": {},
   "source": [
    "Technology has made a lot of jobs in the music industry easier. One of them I think is discovering new talent. We're in the golden age of music recommendations, and it's not uncommon for regular people to discover a new favorite artist every week. I've love to see a curve plotting the growth of new A&R signees that were discovered through products like Discover Weekly.\n",
    "\n",
    "Finding talent is easy, but developing that talent into a career artist is difficult. This is where I think there is a lot of opportunity to use data to help understand historically what creative decisions worked and didn't work. The great thing is that so much of this information is publicly available to anybody. Even if you're an independent artist, you have access to more information than you think. While it helps to have some data chops, I don't think it takes a scientist to approach your music creation process with a critical eye. I've seen artist managers start to extend their data skills quite a bit, but I think it's time for us artists to step up the game as well."
   ]
  },
  {
   "cell_type": "code",
   "execution_count": null,
   "metadata": {},
   "outputs": [],
   "source": []
  }
 ],
 "metadata": {
  "kernelspec": {
   "display_name": "Python 3",
   "language": "python",
   "name": "python3"
  },
  "language_info": {
   "codemirror_mode": {
    "name": "ipython",
    "version": 3
   },
   "file_extension": ".py",
   "mimetype": "text/x-python",
   "name": "python",
   "nbconvert_exporter": "python",
   "pygments_lexer": "ipython3",
   "version": "3.6.5"
  }
 },
 "nbformat": 4,
 "nbformat_minor": 2
}
