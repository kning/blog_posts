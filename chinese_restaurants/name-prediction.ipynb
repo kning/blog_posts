{
 "cells": [
  {
   "cell_type": "code",
   "execution_count": 1,
   "metadata": {},
   "outputs": [],
   "source": [
    "import requests\n",
    "import pandas as pd\n",
    "import numpy as np\n",
    "import random\n",
    "\n",
    "import matplotlib.pyplot as plt\n",
    "%matplotlib inline\n",
    "\n",
    "from sklearn.feature_extraction.text import CountVectorizer, TfidfTransformer\n",
    "from sklearn.model_selection import train_test_split\n",
    "from sklearn.linear_model import SGDClassifier\n",
    "from sklearn.pipeline import Pipeline\n",
    "from sklearn import metrics"
   ]
  },
  {
   "cell_type": "markdown",
   "metadata": {},
   "source": [
    "## Pulling the data"
   ]
  },
  {
   "cell_type": "code",
   "execution_count": 2,
   "metadata": {
    "collapsed": true
   },
   "outputs": [],
   "source": [
    "API_KEY = 'jUkhESUhw68Xd0nxttDKkDyfMqIWcDiBLdgVbYTrE6Kz5GS8AFuqEyAnyvFCS-JTekXw006bjKYLBjoP_WB-6jkXnKLimf1DBv9JTjgHHeeVa6HNtKxDINVgqhAXXHYx'"
   ]
  },
  {
   "cell_type": "code",
   "execution_count": 3,
   "metadata": {
    "collapsed": true
   },
   "outputs": [],
   "source": [
    "# see api reference: https://www.yelp.com/developers/documentation/v3/business_search\n",
    "def get_data(num_rows=1000):\n",
    "    limit = 50\n",
    "    url_params = {\n",
    "        'term': 'chinese',\n",
    "        'location': 'NYC', \n",
    "        'limit': limit,\n",
    "        'offset': 0\n",
    "    }\n",
    "    headers = {\n",
    "        'Authorization': 'Bearer %s' % API_KEY,\n",
    "    }\n",
    "    \n",
    "    df = pd.DataFrame()\n",
    "    \n",
    "    num_requests = int(num_rows / limit)\n",
    "    for i in range(num_requests):\n",
    "        print(u'Querying ...')\n",
    "        response = requests.request('GET', 'https://api.yelp.com/v3/businesses/search', headers=headers, params=url_params)\n",
    "        new_df = pd.DataFrame(response.json()['businesses'])\n",
    "        df = pd.concat([df, new_df])\n",
    "        \n",
    "        url_params['offset'] += limit\n",
    "    \n",
    "    return df"
   ]
  },
  {
   "cell_type": "code",
   "execution_count": 4,
   "metadata": {},
   "outputs": [
    {
     "name": "stdout",
     "output_type": "stream",
     "text": [
      "Querying ...\n",
      "Querying ...\n",
      "Querying ...\n",
      "Querying ...\n",
      "Querying ...\n",
      "Querying ...\n",
      "Querying ...\n",
      "Querying ...\n",
      "Querying ...\n",
      "Querying ...\n",
      "Querying ...\n",
      "Querying ...\n",
      "Querying ...\n",
      "Querying ...\n",
      "Querying ...\n",
      "Querying ...\n",
      "Querying ...\n",
      "Querying ...\n",
      "Querying ...\n",
      "Querying ...\n"
     ]
    }
   ],
   "source": [
    "data = get_data()"
   ]
  },
  {
   "cell_type": "code",
   "execution_count": 5,
   "metadata": {},
   "outputs": [
    {
     "data": {
      "text/html": [
       "<div>\n",
       "<style scoped>\n",
       "    .dataframe tbody tr th:only-of-type {\n",
       "        vertical-align: middle;\n",
       "    }\n",
       "\n",
       "    .dataframe tbody tr th {\n",
       "        vertical-align: top;\n",
       "    }\n",
       "\n",
       "    .dataframe thead th {\n",
       "        text-align: right;\n",
       "    }\n",
       "</style>\n",
       "<table border=\"1\" class=\"dataframe\">\n",
       "  <thead>\n",
       "    <tr style=\"text-align: right;\">\n",
       "      <th></th>\n",
       "      <th>alias</th>\n",
       "      <th>categories</th>\n",
       "      <th>coordinates</th>\n",
       "      <th>display_phone</th>\n",
       "      <th>distance</th>\n",
       "      <th>id</th>\n",
       "      <th>image_url</th>\n",
       "      <th>is_closed</th>\n",
       "      <th>location</th>\n",
       "      <th>name</th>\n",
       "      <th>phone</th>\n",
       "      <th>price</th>\n",
       "      <th>rating</th>\n",
       "      <th>review_count</th>\n",
       "      <th>transactions</th>\n",
       "      <th>url</th>\n",
       "    </tr>\n",
       "  </thead>\n",
       "  <tbody>\n",
       "    <tr>\n",
       "      <th>0</th>\n",
       "      <td>dun-huang-grand-central-new-york-4</td>\n",
       "      <td>[{'alias': 'chinese', 'title': 'Chinese'}, {'a...</td>\n",
       "      <td>{'latitude': 40.74922, 'longitude': -73.97785}</td>\n",
       "      <td>(646) 964-4007</td>\n",
       "      <td>5062.808036</td>\n",
       "      <td>mUl0wtO7tPkBocuJqZ-7Dw</td>\n",
       "      <td>https://s3-media3.fl.yelpcdn.com/bphoto/PysnbQ...</td>\n",
       "      <td>False</td>\n",
       "      <td>{'address1': '320 Lexington Ave', 'address2': ...</td>\n",
       "      <td>Dun Huang -  Grand Central</td>\n",
       "      <td>+16469644007</td>\n",
       "      <td>NaN</td>\n",
       "      <td>4.5</td>\n",
       "      <td>26</td>\n",
       "      <td>[pickup, delivery]</td>\n",
       "      <td>https://www.yelp.com/biz/dun-huang-grand-centr...</td>\n",
       "    </tr>\n",
       "    <tr>\n",
       "      <th>1</th>\n",
       "      <td>chinos-rotisserie-chicken-new-york</td>\n",
       "      <td>[{'alias': 'chickenshop', 'title': 'Chicken Sh...</td>\n",
       "      <td>{'latitude': 40.71474, 'longitude': -73.9983}</td>\n",
       "      <td>(646) 559-0331</td>\n",
       "      <td>1085.627609</td>\n",
       "      <td>PBvQjFOcMBn76pb8okbHOg</td>\n",
       "      <td>https://s3-media3.fl.yelpcdn.com/bphoto/AYqTd2...</td>\n",
       "      <td>False</td>\n",
       "      <td>{'address1': '23 Pell St', 'address2': None, '...</td>\n",
       "      <td>Chino's Rotisserie Chicken</td>\n",
       "      <td>+16465590331</td>\n",
       "      <td>NaN</td>\n",
       "      <td>4.5</td>\n",
       "      <td>25</td>\n",
       "      <td>[pickup, delivery]</td>\n",
       "      <td>https://www.yelp.com/biz/chinos-rotisserie-chi...</td>\n",
       "    </tr>\n",
       "    <tr>\n",
       "      <th>2</th>\n",
       "      <td>mission-chinese-food-brooklyn</td>\n",
       "      <td>[{'alias': 'chinese', 'title': 'Chinese'}]</td>\n",
       "      <td>{'latitude': 40.70933, 'longitude': -73.92315}</td>\n",
       "      <td>(718) 628-3731</td>\n",
       "      <td>6011.362329</td>\n",
       "      <td>IoAUbSudW1Mds5_XY_01Rg</td>\n",
       "      <td>https://s3-media3.fl.yelpcdn.com/bphoto/5xZaXa...</td>\n",
       "      <td>False</td>\n",
       "      <td>{'address1': '599 Johnson Ave', 'address2': ''...</td>\n",
       "      <td>Mission Chinese Food</td>\n",
       "      <td>+17186283731</td>\n",
       "      <td>NaN</td>\n",
       "      <td>4.0</td>\n",
       "      <td>13</td>\n",
       "      <td>[pickup, delivery]</td>\n",
       "      <td>https://www.yelp.com/biz/mission-chinese-food-...</td>\n",
       "    </tr>\n",
       "    <tr>\n",
       "      <th>3</th>\n",
       "      <td>shu-jiao-fu-zhou-cuisine-restaurant-new-york</td>\n",
       "      <td>[{'alias': 'chinese', 'title': 'Chinese'}]</td>\n",
       "      <td>{'latitude': 40.7184290357839, 'longitude': -7...</td>\n",
       "      <td>(212) 625-2532</td>\n",
       "      <td>1460.312860</td>\n",
       "      <td>lynQoI3w_pzYfHGeuUU-Qg</td>\n",
       "      <td>https://s3-media2.fl.yelpcdn.com/bphoto/TALCyE...</td>\n",
       "      <td>False</td>\n",
       "      <td>{'address1': '118 Eldridge St', 'address2': No...</td>\n",
       "      <td>Shu Jiao Fu Zhou Cuisine Restaurant</td>\n",
       "      <td>+12126252532</td>\n",
       "      <td>$</td>\n",
       "      <td>4.5</td>\n",
       "      <td>587</td>\n",
       "      <td>[pickup]</td>\n",
       "      <td>https://www.yelp.com/biz/shu-jiao-fu-zhou-cuis...</td>\n",
       "    </tr>\n",
       "    <tr>\n",
       "      <th>4</th>\n",
       "      <td>hunan-delight-brooklyn</td>\n",
       "      <td>[{'alias': 'chinese', 'title': 'Chinese'}]</td>\n",
       "      <td>{'latitude': 40.6755282563532, 'longitude': -7...</td>\n",
       "      <td>(718) 789-1400</td>\n",
       "      <td>3596.767124</td>\n",
       "      <td>_XLLSXPIjgoZQtwU3RCcQA</td>\n",
       "      <td>https://s3-media2.fl.yelpcdn.com/bphoto/2M169b...</td>\n",
       "      <td>False</td>\n",
       "      <td>{'address1': '752 Union St', 'address2': '', '...</td>\n",
       "      <td>Hunan Delight</td>\n",
       "      <td>+17187891400</td>\n",
       "      <td>$$</td>\n",
       "      <td>4.0</td>\n",
       "      <td>267</td>\n",
       "      <td>[]</td>\n",
       "      <td>https://www.yelp.com/biz/hunan-delight-brookly...</td>\n",
       "    </tr>\n",
       "  </tbody>\n",
       "</table>\n",
       "</div>"
      ],
      "text/plain": [
       "                                          alias  \\\n",
       "0            dun-huang-grand-central-new-york-4   \n",
       "1            chinos-rotisserie-chicken-new-york   \n",
       "2                 mission-chinese-food-brooklyn   \n",
       "3  shu-jiao-fu-zhou-cuisine-restaurant-new-york   \n",
       "4                        hunan-delight-brooklyn   \n",
       "\n",
       "                                          categories  \\\n",
       "0  [{'alias': 'chinese', 'title': 'Chinese'}, {'a...   \n",
       "1  [{'alias': 'chickenshop', 'title': 'Chicken Sh...   \n",
       "2         [{'alias': 'chinese', 'title': 'Chinese'}]   \n",
       "3         [{'alias': 'chinese', 'title': 'Chinese'}]   \n",
       "4         [{'alias': 'chinese', 'title': 'Chinese'}]   \n",
       "\n",
       "                                         coordinates   display_phone  \\\n",
       "0     {'latitude': 40.74922, 'longitude': -73.97785}  (646) 964-4007   \n",
       "1      {'latitude': 40.71474, 'longitude': -73.9983}  (646) 559-0331   \n",
       "2     {'latitude': 40.70933, 'longitude': -73.92315}  (718) 628-3731   \n",
       "3  {'latitude': 40.7184290357839, 'longitude': -7...  (212) 625-2532   \n",
       "4  {'latitude': 40.6755282563532, 'longitude': -7...  (718) 789-1400   \n",
       "\n",
       "      distance                      id  \\\n",
       "0  5062.808036  mUl0wtO7tPkBocuJqZ-7Dw   \n",
       "1  1085.627609  PBvQjFOcMBn76pb8okbHOg   \n",
       "2  6011.362329  IoAUbSudW1Mds5_XY_01Rg   \n",
       "3  1460.312860  lynQoI3w_pzYfHGeuUU-Qg   \n",
       "4  3596.767124  _XLLSXPIjgoZQtwU3RCcQA   \n",
       "\n",
       "                                           image_url  is_closed  \\\n",
       "0  https://s3-media3.fl.yelpcdn.com/bphoto/PysnbQ...      False   \n",
       "1  https://s3-media3.fl.yelpcdn.com/bphoto/AYqTd2...      False   \n",
       "2  https://s3-media3.fl.yelpcdn.com/bphoto/5xZaXa...      False   \n",
       "3  https://s3-media2.fl.yelpcdn.com/bphoto/TALCyE...      False   \n",
       "4  https://s3-media2.fl.yelpcdn.com/bphoto/2M169b...      False   \n",
       "\n",
       "                                            location  \\\n",
       "0  {'address1': '320 Lexington Ave', 'address2': ...   \n",
       "1  {'address1': '23 Pell St', 'address2': None, '...   \n",
       "2  {'address1': '599 Johnson Ave', 'address2': ''...   \n",
       "3  {'address1': '118 Eldridge St', 'address2': No...   \n",
       "4  {'address1': '752 Union St', 'address2': '', '...   \n",
       "\n",
       "                                  name         phone price  rating  \\\n",
       "0           Dun Huang -  Grand Central  +16469644007   NaN     4.5   \n",
       "1           Chino's Rotisserie Chicken  +16465590331   NaN     4.5   \n",
       "2                 Mission Chinese Food  +17186283731   NaN     4.0   \n",
       "3  Shu Jiao Fu Zhou Cuisine Restaurant  +12126252532     $     4.5   \n",
       "4                        Hunan Delight  +17187891400    $$     4.0   \n",
       "\n",
       "   review_count        transactions  \\\n",
       "0            26  [pickup, delivery]   \n",
       "1            25  [pickup, delivery]   \n",
       "2            13  [pickup, delivery]   \n",
       "3           587            [pickup]   \n",
       "4           267                  []   \n",
       "\n",
       "                                                 url  \n",
       "0  https://www.yelp.com/biz/dun-huang-grand-centr...  \n",
       "1  https://www.yelp.com/biz/chinos-rotisserie-chi...  \n",
       "2  https://www.yelp.com/biz/mission-chinese-food-...  \n",
       "3  https://www.yelp.com/biz/shu-jiao-fu-zhou-cuis...  \n",
       "4  https://www.yelp.com/biz/hunan-delight-brookly...  "
      ]
     },
     "execution_count": 5,
     "metadata": {},
     "output_type": "execute_result"
    }
   ],
   "source": [
    "data.head()"
   ]
  },
  {
   "cell_type": "code",
   "execution_count": 6,
   "metadata": {},
   "outputs": [
    {
     "data": {
      "text/plain": [
       "(1000, 16)"
      ]
     },
     "execution_count": 6,
     "metadata": {},
     "output_type": "execute_result"
    }
   ],
   "source": [
    "data.shape"
   ]
  },
  {
   "cell_type": "code",
   "execution_count": 7,
   "metadata": {},
   "outputs": [
    {
     "data": {
      "text/html": [
       "<div>\n",
       "<style scoped>\n",
       "    .dataframe tbody tr th:only-of-type {\n",
       "        vertical-align: middle;\n",
       "    }\n",
       "\n",
       "    .dataframe tbody tr th {\n",
       "        vertical-align: top;\n",
       "    }\n",
       "\n",
       "    .dataframe thead th {\n",
       "        text-align: right;\n",
       "    }\n",
       "</style>\n",
       "<table border=\"1\" class=\"dataframe\">\n",
       "  <thead>\n",
       "    <tr style=\"text-align: right;\">\n",
       "      <th></th>\n",
       "      <th>alias</th>\n",
       "      <th>categories</th>\n",
       "      <th>coordinates</th>\n",
       "      <th>display_phone</th>\n",
       "      <th>distance</th>\n",
       "      <th>id</th>\n",
       "      <th>image_url</th>\n",
       "      <th>is_closed</th>\n",
       "      <th>location</th>\n",
       "      <th>name</th>\n",
       "      <th>phone</th>\n",
       "      <th>price</th>\n",
       "      <th>rating</th>\n",
       "      <th>review_count</th>\n",
       "      <th>transactions</th>\n",
       "      <th>url</th>\n",
       "    </tr>\n",
       "  </thead>\n",
       "  <tbody>\n",
       "  </tbody>\n",
       "</table>\n",
       "</div>"
      ],
      "text/plain": [
       "Empty DataFrame\n",
       "Columns: [alias, categories, coordinates, display_phone, distance, id, image_url, is_closed, location, name, phone, price, rating, review_count, transactions, url]\n",
       "Index: []"
      ]
     },
     "execution_count": 7,
     "metadata": {},
     "output_type": "execute_result"
    }
   ],
   "source": [
    "data[data.alias.duplicated()]"
   ]
  },
  {
   "cell_type": "code",
   "execution_count": 8,
   "metadata": {
    "collapsed": true
   },
   "outputs": [],
   "source": [
    "data.to_csv(\"nyc_chinese_restaurants_1k.csv\", index=False)"
   ]
  },
  {
   "cell_type": "markdown",
   "metadata": {},
   "source": [
    "## Good vs. Bad"
   ]
  },
  {
   "cell_type": "code",
   "execution_count": 9,
   "metadata": {
    "collapsed": true
   },
   "outputs": [],
   "source": [
    "data = pd.read_csv(\"nyc_chinese_restaurants_1k.csv\")"
   ]
  },
  {
   "cell_type": "code",
   "execution_count": 10,
   "metadata": {},
   "outputs": [
    {
     "data": {
      "text/plain": [
       "Index(['alias', 'categories', 'coordinates', 'display_phone', 'distance', 'id',\n",
       "       'image_url', 'is_closed', 'location', 'name', 'phone', 'price',\n",
       "       'rating', 'review_count', 'transactions', 'url'],\n",
       "      dtype='object')"
      ]
     },
     "execution_count": 10,
     "metadata": {},
     "output_type": "execute_result"
    }
   ],
   "source": [
    "data.columns"
   ]
  },
  {
   "cell_type": "code",
   "execution_count": 11,
   "metadata": {},
   "outputs": [
    {
     "data": {
      "text/html": [
       "<div>\n",
       "<style scoped>\n",
       "    .dataframe tbody tr th:only-of-type {\n",
       "        vertical-align: middle;\n",
       "    }\n",
       "\n",
       "    .dataframe tbody tr th {\n",
       "        vertical-align: top;\n",
       "    }\n",
       "\n",
       "    .dataframe thead th {\n",
       "        text-align: right;\n",
       "    }\n",
       "</style>\n",
       "<table border=\"1\" class=\"dataframe\">\n",
       "  <thead>\n",
       "    <tr style=\"text-align: right;\">\n",
       "      <th></th>\n",
       "      <th>rating</th>\n",
       "      <th>review_count</th>\n",
       "    </tr>\n",
       "  </thead>\n",
       "  <tbody>\n",
       "    <tr>\n",
       "      <th>count</th>\n",
       "      <td>1000.000000</td>\n",
       "      <td>1000.000000</td>\n",
       "    </tr>\n",
       "    <tr>\n",
       "      <th>mean</th>\n",
       "      <td>3.747000</td>\n",
       "      <td>144.194000</td>\n",
       "    </tr>\n",
       "    <tr>\n",
       "      <th>std</th>\n",
       "      <td>0.534113</td>\n",
       "      <td>337.260097</td>\n",
       "    </tr>\n",
       "    <tr>\n",
       "      <th>min</th>\n",
       "      <td>2.000000</td>\n",
       "      <td>1.000000</td>\n",
       "    </tr>\n",
       "    <tr>\n",
       "      <th>25%</th>\n",
       "      <td>3.500000</td>\n",
       "      <td>15.000000</td>\n",
       "    </tr>\n",
       "    <tr>\n",
       "      <th>50%</th>\n",
       "      <td>4.000000</td>\n",
       "      <td>39.000000</td>\n",
       "    </tr>\n",
       "    <tr>\n",
       "      <th>75%</th>\n",
       "      <td>4.000000</td>\n",
       "      <td>140.000000</td>\n",
       "    </tr>\n",
       "    <tr>\n",
       "      <th>max</th>\n",
       "      <td>5.000000</td>\n",
       "      <td>5539.000000</td>\n",
       "    </tr>\n",
       "  </tbody>\n",
       "</table>\n",
       "</div>"
      ],
      "text/plain": [
       "            rating  review_count\n",
       "count  1000.000000   1000.000000\n",
       "mean      3.747000    144.194000\n",
       "std       0.534113    337.260097\n",
       "min       2.000000      1.000000\n",
       "25%       3.500000     15.000000\n",
       "50%       4.000000     39.000000\n",
       "75%       4.000000    140.000000\n",
       "max       5.000000   5539.000000"
      ]
     },
     "execution_count": 11,
     "metadata": {},
     "output_type": "execute_result"
    }
   ],
   "source": [
    "data[['rating', 'review_count']].describe()"
   ]
  },
  {
   "cell_type": "markdown",
   "metadata": {},
   "source": [
    "The average NYC Chinese restaurant has a 4 star rating with 39 reviews. "
   ]
  },
  {
   "cell_type": "code",
   "execution_count": 12,
   "metadata": {
    "collapsed": true
   },
   "outputs": [],
   "source": [
    "data['is_good'] = data.apply(lambda r: True if r.review_count > 10 and r.rating >= 4 else False, axis=1)"
   ]
  },
  {
   "cell_type": "code",
   "execution_count": 13,
   "metadata": {},
   "outputs": [
    {
     "data": {
      "text/plain": [
       "False    608\n",
       "True     392\n",
       "Name: is_good, dtype: int64"
      ]
     },
     "execution_count": 13,
     "metadata": {},
     "output_type": "execute_result"
    }
   ],
   "source": [
    "data.is_good.value_counts()"
   ]
  },
  {
   "cell_type": "markdown",
   "metadata": {},
   "source": [
    "39% of Chinese restaurants are \"good\" (i.e. have >10 reviews and and have greater than a 4 star rating)."
   ]
  },
  {
   "cell_type": "markdown",
   "metadata": {},
   "source": [
    "## Bag of Words"
   ]
  },
  {
   "cell_type": "code",
   "execution_count": 14,
   "metadata": {
    "collapsed": true
   },
   "outputs": [],
   "source": [
    "def get_ngram_counts(v, corpus):\n",
    "    # given a sparse matrix, return the top ngrams as a Pandas series with their counts\n",
    "    m = v.fit_transform(corpus)\n",
    "    ngrams = list(zip(*sorted(v.vocabulary_.items(), key=lambda x: x[1])))[0]\n",
    "    totals = m.toarray().sum(axis=0)\n",
    "    return pd.Series(data=totals, index=ngrams)"
   ]
  },
  {
   "cell_type": "markdown",
   "metadata": {},
   "source": [
    "### Unigrams"
   ]
  },
  {
   "cell_type": "code",
   "execution_count": 15,
   "metadata": {},
   "outputs": [
    {
     "data": {
      "text/html": [
       "<div>\n",
       "<style scoped>\n",
       "    .dataframe tbody tr th:only-of-type {\n",
       "        vertical-align: middle;\n",
       "    }\n",
       "\n",
       "    .dataframe tbody tr th {\n",
       "        vertical-align: top;\n",
       "    }\n",
       "\n",
       "    .dataframe thead th {\n",
       "        text-align: right;\n",
       "    }\n",
       "</style>\n",
       "<table border=\"1\" class=\"dataframe\">\n",
       "  <thead>\n",
       "    <tr style=\"text-align: right;\">\n",
       "      <th></th>\n",
       "      <th>ct</th>\n",
       "    </tr>\n",
       "  </thead>\n",
       "  <tbody>\n",
       "    <tr>\n",
       "      <th>restaurant</th>\n",
       "      <td>194</td>\n",
       "    </tr>\n",
       "    <tr>\n",
       "      <th>chinese</th>\n",
       "      <td>145</td>\n",
       "    </tr>\n",
       "    <tr>\n",
       "      <th>kitchen</th>\n",
       "      <td>100</td>\n",
       "    </tr>\n",
       "    <tr>\n",
       "      <th>new</th>\n",
       "      <td>71</td>\n",
       "    </tr>\n",
       "    <tr>\n",
       "      <th>garden</th>\n",
       "      <td>69</td>\n",
       "    </tr>\n",
       "    <tr>\n",
       "      <th>china</th>\n",
       "      <td>68</td>\n",
       "    </tr>\n",
       "    <tr>\n",
       "      <th>house</th>\n",
       "      <td>50</td>\n",
       "    </tr>\n",
       "    <tr>\n",
       "      <th>king</th>\n",
       "      <td>38</td>\n",
       "    </tr>\n",
       "    <tr>\n",
       "      <th>noodle</th>\n",
       "      <td>33</td>\n",
       "    </tr>\n",
       "    <tr>\n",
       "      <th>golden</th>\n",
       "      <td>33</td>\n",
       "    </tr>\n",
       "  </tbody>\n",
       "</table>\n",
       "</div>"
      ],
      "text/plain": [
       "             ct\n",
       "restaurant  194\n",
       "chinese     145\n",
       "kitchen     100\n",
       "new          71\n",
       "garden       69\n",
       "china        68\n",
       "house        50\n",
       "king         38\n",
       "noodle       33\n",
       "golden       33"
      ]
     },
     "execution_count": 15,
     "metadata": {},
     "output_type": "execute_result"
    }
   ],
   "source": [
    "vectorizer = CountVectorizer()\n",
    "unigrams = get_ngram_counts(vectorizer, data.name).sort_values(ascending=False).to_frame()\n",
    "unigrams.columns = ['ct']\n",
    "unigrams.head(10)"
   ]
  },
  {
   "cell_type": "markdown",
   "metadata": {},
   "source": [
    "### Bigrams"
   ]
  },
  {
   "cell_type": "code",
   "execution_count": 16,
   "metadata": {},
   "outputs": [
    {
     "data": {
      "text/plain": [
       "chinese restaurant    79\n",
       "chinese kitchen       17\n",
       "hong kong             16\n",
       "xi an                 13\n",
       "famous foods          13\n",
       "an famous             12\n",
       "great wall            11\n",
       "chinese food          11\n",
       "garden chinese        10\n",
       "noodle shop            9\n",
       "dtype: int64"
      ]
     },
     "execution_count": 16,
     "metadata": {},
     "output_type": "execute_result"
    }
   ],
   "source": [
    "bigram_vectorizer = CountVectorizer(ngram_range=(2,2))\n",
    "get_ngram_counts(bigram_vectorizer, data.name).sort_values(ascending=False).head(10)"
   ]
  },
  {
   "cell_type": "markdown",
   "metadata": {},
   "source": [
    "## Training the model"
   ]
  },
  {
   "cell_type": "code",
   "execution_count": 17,
   "metadata": {},
   "outputs": [
    {
     "name": "stderr",
     "output_type": "stream",
     "text": [
      "/Users/kennethning/anaconda3/lib/python3.6/site-packages/sklearn/linear_model/stochastic_gradient.py:128: FutureWarning: max_iter and tol parameters have been added in <class 'sklearn.linear_model.stochastic_gradient.SGDClassifier'> in 0.19. If both are left unset, they default to max_iter=5 and tol=None. If tol is not None, max_iter defaults to max_iter=1000. From 0.21, default max_iter will be 1000, and default tol will be 1e-3.\n",
      "  \"and default tol will be 1e-3.\" % type(self), FutureWarning)\n"
     ]
    },
    {
     "data": {
      "text/plain": [
       "Pipeline(memory=None,\n",
       "     steps=[('vect', CountVectorizer(analyzer='word', binary=False, decode_error='strict',\n",
       "        dtype=<class 'numpy.int64'>, encoding='utf-8', input='content',\n",
       "        lowercase=True, max_df=1.0, max_features=None, min_df=1,\n",
       "        ngram_range=(1, 1), preprocessor=None, stop_words=None,\n",
       "        strip...ty='l2', power_t=0.5, random_state=42, shuffle=True,\n",
       "       tol=None, verbose=0, warm_start=False))])"
      ]
     },
     "execution_count": 17,
     "metadata": {},
     "output_type": "execute_result"
    }
   ],
   "source": [
    "X_train, X_test, y_train, y_test = train_test_split(data.name, data.is_good, test_size=0.2, random_state=42)\n",
    "clf = Pipeline([\n",
    "    ('vect', CountVectorizer()),\n",
    "    ('tfidf', TfidfTransformer()),\n",
    "    ('clf', SGDClassifier(random_state=42))\n",
    "])\n",
    "\n",
    "clf.fit(X_train, y_train)"
   ]
  },
  {
   "cell_type": "code",
   "execution_count": 18,
   "metadata": {},
   "outputs": [
    {
     "data": {
      "text/plain": [
       "0.63500000000000001"
      ]
     },
     "execution_count": 18,
     "metadata": {},
     "output_type": "execute_result"
    }
   ],
   "source": [
    "np.mean(clf.predict(X_test) == y_test)"
   ]
  },
  {
   "cell_type": "code",
   "execution_count": 19,
   "metadata": {},
   "outputs": [
    {
     "data": {
      "text/plain": [
       "0.58921302578018997"
      ]
     },
     "execution_count": 19,
     "metadata": {},
     "output_type": "execute_result"
    }
   ],
   "source": [
    "metrics.roc_auc_score(y_test, clf.predict(X_test))"
   ]
  },
  {
   "cell_type": "code",
   "execution_count": 20,
   "metadata": {},
   "outputs": [
    {
     "name": "stdout",
     "output_type": "stream",
     "text": [
      "             precision    recall  f1-score   support\n",
      "\n",
      "      False       0.73      0.72      0.73       134\n",
      "       True       0.45      0.45      0.45        66\n",
      "\n",
      "avg / total       0.64      0.64      0.64       200\n",
      "\n"
     ]
    }
   ],
   "source": [
    "print(metrics.classification_report(y_test, clf.predict(X_test)))"
   ]
  },
  {
   "cell_type": "code",
   "execution_count": 21,
   "metadata": {},
   "outputs": [
    {
     "name": "stdout",
     "output_type": "stream",
     "text": [
      "true negatives: 97\n",
      "false positives: 37\n",
      "false negatives: 36\n",
      "true positives: 30\n"
     ]
    }
   ],
   "source": [
    "tn, fp, fn, tp = metrics.confusion_matrix(y_test, clf.predict(X_test)).ravel()\n",
    "\n",
    "print('true negatives: {:d}'.format(tn))\n",
    "print('false positives: {:d}'.format(fp))\n",
    "print('false negatives: {:d}'.format(fn))\n",
    "print('true positives: {:d}'.format(tp))"
   ]
  },
  {
   "cell_type": "markdown",
   "metadata": {},
   "source": [
    "It's easier to identify a bad restaurant than it is to identify a good one."
   ]
  },
  {
   "cell_type": "markdown",
   "metadata": {},
   "source": [
    "## Biggest word red-flags"
   ]
  },
  {
   "cell_type": "code",
   "execution_count": 22,
   "metadata": {},
   "outputs": [],
   "source": [
    "model_vect = clf.get_params()['steps'][0][1]\n",
    "\n",
    "model = clf.get_params()['steps'][2][1]"
   ]
  },
  {
   "cell_type": "code",
   "execution_count": 23,
   "metadata": {},
   "outputs": [],
   "source": [
    "weights = pd.DataFrame(data={'coef': model.coef_[0]}, index=model_vect.get_feature_names())"
   ]
  },
  {
   "cell_type": "code",
   "execution_count": 24,
   "metadata": {},
   "outputs": [],
   "source": [
    "weights_with_counts = weights.merge(unigrams, how='left', left_index=True, right_index=True)"
   ]
  },
  {
   "cell_type": "code",
   "execution_count": 25,
   "metadata": {},
   "outputs": [
    {
     "data": {
      "text/html": [
       "<div>\n",
       "<style scoped>\n",
       "    .dataframe tbody tr th:only-of-type {\n",
       "        vertical-align: middle;\n",
       "    }\n",
       "\n",
       "    .dataframe tbody tr th {\n",
       "        vertical-align: top;\n",
       "    }\n",
       "\n",
       "    .dataframe thead th {\n",
       "        text-align: right;\n",
       "    }\n",
       "</style>\n",
       "<table border=\"1\" class=\"dataframe\">\n",
       "  <thead>\n",
       "    <tr style=\"text-align: right;\">\n",
       "      <th></th>\n",
       "      <th>coef</th>\n",
       "      <th>ct</th>\n",
       "    </tr>\n",
       "  </thead>\n",
       "  <tbody>\n",
       "    <tr>\n",
       "      <th>golden</th>\n",
       "      <td>-4.246894</td>\n",
       "      <td>33</td>\n",
       "    </tr>\n",
       "    <tr>\n",
       "      <th>wah</th>\n",
       "      <td>-4.206801</td>\n",
       "      <td>16</td>\n",
       "    </tr>\n",
       "    <tr>\n",
       "      <th>hot</th>\n",
       "      <td>-4.018966</td>\n",
       "      <td>11</td>\n",
       "    </tr>\n",
       "    <tr>\n",
       "      <th>restaurant</th>\n",
       "      <td>-3.522196</td>\n",
       "      <td>194</td>\n",
       "    </tr>\n",
       "    <tr>\n",
       "      <th>peking</th>\n",
       "      <td>-2.874666</td>\n",
       "      <td>12</td>\n",
       "    </tr>\n",
       "    <tr>\n",
       "      <th>city</th>\n",
       "      <td>-2.317960</td>\n",
       "      <td>11</td>\n",
       "    </tr>\n",
       "    <tr>\n",
       "      <th>star</th>\n",
       "      <td>-2.030389</td>\n",
       "      <td>11</td>\n",
       "    </tr>\n",
       "    <tr>\n",
       "      <th>kitchen</th>\n",
       "      <td>-2.006599</td>\n",
       "      <td>100</td>\n",
       "    </tr>\n",
       "    <tr>\n",
       "      <th>mr</th>\n",
       "      <td>-1.867034</td>\n",
       "      <td>16</td>\n",
       "    </tr>\n",
       "    <tr>\n",
       "      <th>lee</th>\n",
       "      <td>-1.783159</td>\n",
       "      <td>14</td>\n",
       "    </tr>\n",
       "  </tbody>\n",
       "</table>\n",
       "</div>"
      ],
      "text/plain": [
       "                coef   ct\n",
       "golden     -4.246894   33\n",
       "wah        -4.206801   16\n",
       "hot        -4.018966   11\n",
       "restaurant -3.522196  194\n",
       "peking     -2.874666   12\n",
       "city       -2.317960   11\n",
       "star       -2.030389   11\n",
       "kitchen    -2.006599  100\n",
       "mr         -1.867034   16\n",
       "lee        -1.783159   14"
      ]
     },
     "execution_count": 25,
     "metadata": {},
     "output_type": "execute_result"
    }
   ],
   "source": [
    "weights_with_counts.query(\"ct >= 10\").sort_values('coef', ascending=True).head(10)"
   ]
  },
  {
   "cell_type": "code",
   "execution_count": 26,
   "metadata": {},
   "outputs": [
    {
     "data": {
      "text/html": [
       "<div>\n",
       "<style scoped>\n",
       "    .dataframe tbody tr th:only-of-type {\n",
       "        vertical-align: middle;\n",
       "    }\n",
       "\n",
       "    .dataframe tbody tr th {\n",
       "        vertical-align: top;\n",
       "    }\n",
       "\n",
       "    .dataframe thead th {\n",
       "        text-align: right;\n",
       "    }\n",
       "</style>\n",
       "<table border=\"1\" class=\"dataframe\">\n",
       "  <thead>\n",
       "    <tr style=\"text-align: right;\">\n",
       "      <th></th>\n",
       "      <th>name</th>\n",
       "      <th>rating</th>\n",
       "      <th>review_count</th>\n",
       "    </tr>\n",
       "  </thead>\n",
       "  <tbody>\n",
       "    <tr>\n",
       "      <th>101</th>\n",
       "      <td>Trinidad Golden Place Restaurant</td>\n",
       "      <td>4.5</td>\n",
       "      <td>107</td>\n",
       "    </tr>\n",
       "    <tr>\n",
       "      <th>126</th>\n",
       "      <td>Golden Z</td>\n",
       "      <td>4.0</td>\n",
       "      <td>70</td>\n",
       "    </tr>\n",
       "    <tr>\n",
       "      <th>153</th>\n",
       "      <td>Golden Forest</td>\n",
       "      <td>4.0</td>\n",
       "      <td>139</td>\n",
       "    </tr>\n",
       "    <tr>\n",
       "      <th>158</th>\n",
       "      <td>Golden Chopstick</td>\n",
       "      <td>3.5</td>\n",
       "      <td>61</td>\n",
       "    </tr>\n",
       "    <tr>\n",
       "      <th>248</th>\n",
       "      <td>Golden Dragon</td>\n",
       "      <td>3.5</td>\n",
       "      <td>68</td>\n",
       "    </tr>\n",
       "    <tr>\n",
       "      <th>272</th>\n",
       "      <td>Golden Fried Dumpling</td>\n",
       "      <td>3.5</td>\n",
       "      <td>329</td>\n",
       "    </tr>\n",
       "    <tr>\n",
       "      <th>291</th>\n",
       "      <td>New Golden Star</td>\n",
       "      <td>3.5</td>\n",
       "      <td>72</td>\n",
       "    </tr>\n",
       "    <tr>\n",
       "      <th>329</th>\n",
       "      <td>Christopher's Golden Woks</td>\n",
       "      <td>3.5</td>\n",
       "      <td>49</td>\n",
       "    </tr>\n",
       "    <tr>\n",
       "      <th>330</th>\n",
       "      <td>Golden City Chinese Restaurant</td>\n",
       "      <td>3.5</td>\n",
       "      <td>76</td>\n",
       "    </tr>\n",
       "    <tr>\n",
       "      <th>363</th>\n",
       "      <td>New Golden Dragon Restaurant</td>\n",
       "      <td>4.0</td>\n",
       "      <td>25</td>\n",
       "    </tr>\n",
       "    <tr>\n",
       "      <th>426</th>\n",
       "      <td>Golden Star Chinese Restaurant</td>\n",
       "      <td>3.5</td>\n",
       "      <td>25</td>\n",
       "    </tr>\n",
       "    <tr>\n",
       "      <th>448</th>\n",
       "      <td>Golden City Chinese Restaurant</td>\n",
       "      <td>4.5</td>\n",
       "      <td>7</td>\n",
       "    </tr>\n",
       "    <tr>\n",
       "      <th>471</th>\n",
       "      <td>Golden Dynasty Restaurant</td>\n",
       "      <td>4.0</td>\n",
       "      <td>18</td>\n",
       "    </tr>\n",
       "    <tr>\n",
       "      <th>491</th>\n",
       "      <td>Golden Dragon Kitchen</td>\n",
       "      <td>3.5</td>\n",
       "      <td>18</td>\n",
       "    </tr>\n",
       "    <tr>\n",
       "      <th>511</th>\n",
       "      <td>Golden Wok</td>\n",
       "      <td>3.5</td>\n",
       "      <td>49</td>\n",
       "    </tr>\n",
       "    <tr>\n",
       "      <th>541</th>\n",
       "      <td>Golden Rich</td>\n",
       "      <td>4.0</td>\n",
       "      <td>72</td>\n",
       "    </tr>\n",
       "    <tr>\n",
       "      <th>544</th>\n",
       "      <td>Golden Way</td>\n",
       "      <td>3.5</td>\n",
       "      <td>50</td>\n",
       "    </tr>\n",
       "    <tr>\n",
       "      <th>545</th>\n",
       "      <td>Golden Wok</td>\n",
       "      <td>3.0</td>\n",
       "      <td>37</td>\n",
       "    </tr>\n",
       "    <tr>\n",
       "      <th>549</th>\n",
       "      <td>Golden Kitchen</td>\n",
       "      <td>3.5</td>\n",
       "      <td>25</td>\n",
       "    </tr>\n",
       "    <tr>\n",
       "      <th>558</th>\n",
       "      <td>Golden Village Chinese Kitchen</td>\n",
       "      <td>3.5</td>\n",
       "      <td>10</td>\n",
       "    </tr>\n",
       "    <tr>\n",
       "      <th>584</th>\n",
       "      <td>Golden House</td>\n",
       "      <td>2.5</td>\n",
       "      <td>83</td>\n",
       "    </tr>\n",
       "    <tr>\n",
       "      <th>650</th>\n",
       "      <td>New Golden Chopstick Chinese Restaurant</td>\n",
       "      <td>3.0</td>\n",
       "      <td>34</td>\n",
       "    </tr>\n",
       "    <tr>\n",
       "      <th>667</th>\n",
       "      <td>Golden Harbor</td>\n",
       "      <td>3.0</td>\n",
       "      <td>34</td>\n",
       "    </tr>\n",
       "    <tr>\n",
       "      <th>673</th>\n",
       "      <td>Golden Palace</td>\n",
       "      <td>2.5</td>\n",
       "      <td>5</td>\n",
       "    </tr>\n",
       "    <tr>\n",
       "      <th>706</th>\n",
       "      <td>Golden Palace</td>\n",
       "      <td>3.0</td>\n",
       "      <td>9</td>\n",
       "    </tr>\n",
       "    <tr>\n",
       "      <th>761</th>\n",
       "      <td>Golden Fountain Kitchen</td>\n",
       "      <td>3.5</td>\n",
       "      <td>92</td>\n",
       "    </tr>\n",
       "    <tr>\n",
       "      <th>780</th>\n",
       "      <td>Chelsea Golden Wok</td>\n",
       "      <td>3.0</td>\n",
       "      <td>48</td>\n",
       "    </tr>\n",
       "    <tr>\n",
       "      <th>813</th>\n",
       "      <td>Golden City Chinese Kitchen</td>\n",
       "      <td>3.5</td>\n",
       "      <td>2</td>\n",
       "    </tr>\n",
       "    <tr>\n",
       "      <th>819</th>\n",
       "      <td>Golden Kitchen</td>\n",
       "      <td>4.0</td>\n",
       "      <td>5</td>\n",
       "    </tr>\n",
       "    <tr>\n",
       "      <th>837</th>\n",
       "      <td>Golden Dragon</td>\n",
       "      <td>4.0</td>\n",
       "      <td>7</td>\n",
       "    </tr>\n",
       "    <tr>\n",
       "      <th>907</th>\n",
       "      <td>Golden Imperial Palace</td>\n",
       "      <td>3.5</td>\n",
       "      <td>109</td>\n",
       "    </tr>\n",
       "    <tr>\n",
       "      <th>942</th>\n",
       "      <td>Golden City Seafood Restaurant</td>\n",
       "      <td>3.0</td>\n",
       "      <td>40</td>\n",
       "    </tr>\n",
       "    <tr>\n",
       "      <th>958</th>\n",
       "      <td>Golden Palace Chinese Restaurant</td>\n",
       "      <td>3.5</td>\n",
       "      <td>12</td>\n",
       "    </tr>\n",
       "  </tbody>\n",
       "</table>\n",
       "</div>"
      ],
      "text/plain": [
       "                                        name  rating  review_count\n",
       "101         Trinidad Golden Place Restaurant     4.5           107\n",
       "126                                 Golden Z     4.0            70\n",
       "153                            Golden Forest     4.0           139\n",
       "158                         Golden Chopstick     3.5            61\n",
       "248                            Golden Dragon     3.5            68\n",
       "272                    Golden Fried Dumpling     3.5           329\n",
       "291                          New Golden Star     3.5            72\n",
       "329                Christopher's Golden Woks     3.5            49\n",
       "330           Golden City Chinese Restaurant     3.5            76\n",
       "363             New Golden Dragon Restaurant     4.0            25\n",
       "426           Golden Star Chinese Restaurant     3.5            25\n",
       "448           Golden City Chinese Restaurant     4.5             7\n",
       "471                Golden Dynasty Restaurant     4.0            18\n",
       "491                    Golden Dragon Kitchen     3.5            18\n",
       "511                               Golden Wok     3.5            49\n",
       "541                              Golden Rich     4.0            72\n",
       "544                               Golden Way     3.5            50\n",
       "545                               Golden Wok     3.0            37\n",
       "549                           Golden Kitchen     3.5            25\n",
       "558           Golden Village Chinese Kitchen     3.5            10\n",
       "584                             Golden House     2.5            83\n",
       "650  New Golden Chopstick Chinese Restaurant     3.0            34\n",
       "667                            Golden Harbor     3.0            34\n",
       "673                            Golden Palace     2.5             5\n",
       "706                            Golden Palace     3.0             9\n",
       "761                  Golden Fountain Kitchen     3.5            92\n",
       "780                       Chelsea Golden Wok     3.0            48\n",
       "813              Golden City Chinese Kitchen     3.5             2\n",
       "819                           Golden Kitchen     4.0             5\n",
       "837                            Golden Dragon     4.0             7\n",
       "907                   Golden Imperial Palace     3.5           109\n",
       "942           Golden City Seafood Restaurant     3.0            40\n",
       "958         Golden Palace Chinese Restaurant     3.5            12"
      ]
     },
     "execution_count": 26,
     "metadata": {},
     "output_type": "execute_result"
    }
   ],
   "source": [
    "data[data.name.apply(lambda x: 'golden' in x.lower())][['name', 'rating', 'review_count']]"
   ]
  },
  {
   "cell_type": "markdown",
   "metadata": {},
   "source": [
    "## Random name generator"
   ]
  },
  {
   "cell_type": "code",
   "execution_count": 27,
   "metadata": {
    "collapsed": true
   },
   "outputs": [],
   "source": [
    "def gen_name_and_predict(length=3):\n",
    "    get_words = random.sample(model_vect.vocabulary_.keys(), length)\n",
    "    name = ' '.join([w.capitalize() for w in get_words])\n",
    "    m = model_vect.transform([name])\n",
    "    if model.predict(m)[0]:\n",
    "        return name"
   ]
  },
  {
   "cell_type": "code",
   "execution_count": 28,
   "metadata": {},
   "outputs": [
    {
     "name": "stdout",
     "output_type": "stream",
     "text": [
      "Successful name found after 6 iterations!\n",
      "Chowtime He\n"
     ]
    }
   ],
   "source": [
    "i = 1\n",
    "max_iterations = 100\n",
    "while True:\n",
    "    name = gen_name_and_predict(2)\n",
    "    if name:\n",
    "        print(\"Successful name found after {:d} iterations!\".format(i))\n",
    "        print(name)\n",
    "        break\n",
    "    \n",
    "    i += 1\n",
    "    \n",
    "    if i == max_iterations:\n",
    "        print(\"No name found after {:d} iterations\".format(max_iterations))\n",
    "        break"
   ]
  },
  {
   "cell_type": "markdown",
   "metadata": {},
   "source": [
    "Some fun ones:\n",
    "• Super Kathy\n",
    "• Wong Gate\n",
    "• Uncle Chowtime\n",
    "• Great Fatt"
   ]
  },
  {
   "cell_type": "code",
   "execution_count": 29,
   "metadata": {},
   "outputs": [
    {
     "data": {
      "text/plain": [
       "False"
      ]
     },
     "execution_count": 29,
     "metadata": {},
     "output_type": "execute_result"
    }
   ],
   "source": [
    "model.predict(model_vect.transform(['hua long']))[0]"
   ]
  },
  {
   "cell_type": "code",
   "execution_count": null,
   "metadata": {
    "collapsed": true
   },
   "outputs": [],
   "source": []
  }
 ],
 "metadata": {
  "kernelspec": {
   "display_name": "Python 3",
   "language": "python",
   "name": "python3"
  },
  "language_info": {
   "codemirror_mode": {
    "name": "ipython",
    "version": 3
   },
   "file_extension": ".py",
   "mimetype": "text/x-python",
   "name": "python",
   "nbconvert_exporter": "python",
   "pygments_lexer": "ipython3",
   "version": "3.6.3"
  }
 },
 "nbformat": 4,
 "nbformat_minor": 2
}
